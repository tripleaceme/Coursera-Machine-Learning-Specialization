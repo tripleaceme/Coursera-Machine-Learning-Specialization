{
 "cells": [
  {
   "cell_type": "code",
   "execution_count": 21,
   "metadata": {
    "collapsed": true
   },
   "outputs": [],
   "source": [
    "import numpy as np\n",
    "\n",
    "def get_dist(x, y):\n",
    "    return(np.sqrt(np.sum((np.array(x) - np.array(y)) ** 2)))"
   ]
  },
  {
   "cell_type": "code",
   "execution_count": 22,
   "metadata": {},
   "outputs": [
    {
     "data": {
      "text/plain": [
       "3.8803221515745312"
      ]
     },
     "execution_count": 22,
     "metadata": {},
     "output_type": "execute_result"
    }
   ],
   "source": [
    "get_dist([2, 2], [-1.88, 2.05])"
   ]
  },
  {
   "cell_type": "code",
   "execution_count": 23,
   "metadata": {},
   "outputs": [
    {
     "data": {
      "text/plain": [
       "4.0517773877645347"
      ]
     },
     "execution_count": 23,
     "metadata": {},
     "output_type": "execute_result"
    }
   ],
   "source": [
    "get_dist([-2, -2], [-1.88, 2.05])"
   ]
  },
  {
   "cell_type": "code",
   "execution_count": 24,
   "metadata": {},
   "outputs": [
    {
     "name": "stdout",
     "output_type": "stream",
     "text": [
      "3.13695712435\n",
      "2.74235300426\n"
     ]
    }
   ],
   "source": [
    "print(get_dist([2, 2], [-0.71, 0.42]))\n",
    "print(get_dist([-2, -2], [-0.71, 0.42]))"
   ]
  },
  {
   "cell_type": "code",
   "execution_count": 26,
   "metadata": {},
   "outputs": [
    {
     "name": "stdout",
     "output_type": "stream",
     "text": [
      "2.70765581269\n",
      "4.64450212617\n"
     ]
    }
   ],
   "source": [
    "print(get_dist([2, 2], [2.45, -0.67]))\n",
    "print(get_dist([-2, -2], [2.45, -0.67]))"
   ]
  },
  {
   "cell_type": "code",
   "execution_count": 27,
   "metadata": {},
   "outputs": [
    {
     "name": "stdout",
     "output_type": "stream",
     "text": [
      "5.80193933095\n",
      "4.25\n"
     ]
    }
   ],
   "source": [
    "print(get_dist([2, 2], [1.85, -3.80]))\n",
    "print(get_dist([-2, -2], [1.85, -3.80]))"
   ]
  },
  {
   "cell_type": "code",
   "execution_count": 28,
   "metadata": {},
   "outputs": [
    {
     "name": "stdout",
     "output_type": "stream",
     "text": [
      "6.59279910205\n",
      "1.81796589627\n"
     ]
    }
   ],
   "source": [
    "print(get_dist([2, 2], [-3.69, -1.33]))\n",
    "print(get_dist([-2, -2], [-3.69, -1.33]))"
   ]
  },
  {
   "cell_type": "code",
   "execution_count": 32,
   "metadata": {},
   "outputs": [
    {
     "name": "stdout",
     "output_type": "stream",
     "text": [
      "0.285\n",
      "0.69\n"
     ]
    }
   ],
   "source": [
    "print(np.mean([-1.88, 2.45]))\n",
    "print(np.mean([2.05, -0.67]))"
   ]
  },
  {
   "cell_type": "code",
   "execution_count": 33,
   "metadata": {},
   "outputs": [
    {
     "name": "stdout",
     "output_type": "stream",
     "text": [
      "-0.85\n",
      "-1.57\n"
     ]
    }
   ],
   "source": [
    "print(np.mean([-0.71, 1.85, -3.69]))\n",
    "print(np.mean([0.42, -3.80, -1.33]))"
   ]
  },
  {
   "cell_type": "code",
   "execution_count": 34,
   "metadata": {},
   "outputs": [
    {
     "name": "stdout",
     "output_type": "stream",
     "text": [
      "2.55672153353\n",
      "3.76368170812\n",
      "1.03098254107\n",
      "1.9949185447\n",
      "2.55672153353\n",
      "3.4205262753\n",
      "4.7549263927\n",
      "3.50184237224\n",
      "4.45881430427\n",
      "2.85012280437\n"
     ]
    }
   ],
   "source": [
    "print(get_dist([0.285, 0.69], [-1.88, 2.05]))\n",
    "print(get_dist([-0.85, -1.57], [-1.88, 2.05]))\n",
    "\n",
    "print(get_dist([0.285, 0.69], [-0.71, 0.42]))\n",
    "print(get_dist([-0.85, -1.57], [-0.71, 0.42]))\n",
    "\n",
    "print(get_dist([0.285, 0.69], [2.45, -0.67]))\n",
    "print(get_dist([-0.85, -1.57], [2.45, -0.67]))\n",
    "\n",
    "print(get_dist([0.285, 0.69], [1.85, -3.80]))\n",
    "print(get_dist([-0.85, -1.57], [1.85, -3.80]))\n",
    "\n",
    "print(get_dist([0.285, 0.69], [-3.69, -1.33]))\n",
    "print(get_dist([-0.85, -1.57], [-3.69, -1.33]))"
   ]
  },
  {
   "cell_type": "code",
   "execution_count": 35,
   "metadata": {},
   "outputs": [
    {
     "name": "stdout",
     "output_type": "stream",
     "text": [
      "-0.0466666666667\n",
      "0.6\n"
     ]
    }
   ],
   "source": [
    "print(np.mean([-1.88, -0.71, 2.45]))\n",
    "print(np.mean([2.05, 0.42, -0.67]))"
   ]
  },
  {
   "cell_type": "code",
   "execution_count": 36,
   "metadata": {},
   "outputs": [
    {
     "name": "stdout",
     "output_type": "stream",
     "text": [
      "-0.92\n",
      "-2.565\n"
     ]
    }
   ],
   "source": [
    "print(np.mean([1.85, -3.69]))\n",
    "print(np.mean([-3.80, -1.33]))\n"
   ]
  },
  {
   "cell_type": "code",
   "execution_count": 37,
   "metadata": {},
   "outputs": [
    {
     "name": "stdout",
     "output_type": "stream",
     "text": [
      "2.33741072343\n",
      "4.71379093724\n",
      "0.687289524145\n",
      "2.99237781705\n",
      "2.80114456785\n",
      "3.86625464759\n",
      "4.79139550549\n",
      "3.03284107727\n",
      "4.1229279511\n",
      "3.03284107727\n"
     ]
    }
   ],
   "source": [
    "print(get_dist([-0.0467, 0.6], [-1.88, 2.05]))\n",
    "print(get_dist([-0.92, -2.565], [-1.88, 2.05]))\n",
    "\n",
    "print(get_dist([-0.0467, 0.6], [-0.71, 0.42]))\n",
    "print(get_dist([-0.92, -2.565], [-0.71, 0.42]))\n",
    "\n",
    "print(get_dist([-0.0467, 0.6], [2.45, -0.67]))\n",
    "print(get_dist([-0.92, -2.565], [2.45, -0.67]))\n",
    "\n",
    "print(get_dist([-0.0467, 0.6], [1.85, -3.80]))\n",
    "print(get_dist([-0.92, -2.565], [1.85, -3.80]))\n",
    "\n",
    "print(get_dist([-0.0467, 0.6], [-3.69, -1.33]))\n",
    "print(get_dist([-0.92, -2.565], [-3.69, -1.33]))"
   ]
  },
  {
   "cell_type": "code",
   "execution_count": 38,
   "metadata": {},
   "outputs": [
    {
     "name": "stdout",
     "output_type": "stream",
     "text": [
      "The only data point to change cluster assignments was 2.\n"
     ]
    }
   ],
   "source": [
    "print('The only data point to change cluster assignments was 2.')"
   ]
  },
  {
   "cell_type": "code",
   "execution_count": 39,
   "metadata": {},
   "outputs": [
    {
     "name": "stdout",
     "output_type": "stream",
     "text": [
      "The process took three iterations to assign all points such that cluster centers do not change.\n"
     ]
    }
   ],
   "source": [
    "print('The process took three iterations to assign all points such that cluster centers do not change.')"
   ]
  },
  {
   "cell_type": "code",
   "execution_count": null,
   "metadata": {
    "collapsed": true
   },
   "outputs": [],
   "source": []
  }
 ],
 "metadata": {
  "kernelspec": {
   "display_name": "Python 2",
   "language": "python",
   "name": "python2"
  },
  "language_info": {
   "codemirror_mode": {
    "name": "ipython",
    "version": 2
   },
   "file_extension": ".py",
   "mimetype": "text/x-python",
   "name": "python",
   "nbconvert_exporter": "python",
   "pygments_lexer": "ipython2",
   "version": "2.7.14"
  }
 },
 "nbformat": 4,
 "nbformat_minor": 2
}
