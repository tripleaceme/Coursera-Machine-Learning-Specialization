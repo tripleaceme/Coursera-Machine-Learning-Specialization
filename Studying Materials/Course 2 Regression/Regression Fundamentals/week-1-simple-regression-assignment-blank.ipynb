{
 "cells": [
  {
   "cell_type": "markdown",
   "metadata": {
    "hideCode": false,
    "hidePrompt": false
   },
   "source": [
    "# Regression Week 1: Simple Linear Regression"
   ]
  },
  {
   "cell_type": "markdown",
   "metadata": {
    "hideCode": false,
    "hidePrompt": false
   },
   "source": [
    "In this notebook we will use data on house sales in King County to predict house prices using simple (one input) linear regression. You will:\n",
    "* Use graphlab SArray and SFrame functions to compute important summary statistics\n",
    "* Write a function to compute the Simple Linear Regression weights using the closed form solution\n",
    "* Write a function to make predictions of the output given the input feature\n",
    "* Turn the regression around to predict the input given the output\n",
    "* Compare two different models for predicting house prices\n",
    "\n",
    "In this notebook you will be provided with some already complete code as well as some code that you should complete yourself in order to answer quiz questions. The code we provide to complte is optional and is there to assist you with solving the problems but feel free to ignore the helper code and write your own."
   ]
  },
  {
   "cell_type": "markdown",
   "metadata": {
    "hideCode": false,
    "hidePrompt": false
   },
   "source": [
    "# Fire up graphlab create"
   ]
  },
  {
   "cell_type": "code",
   "execution_count": 1,
   "metadata": {
    "collapsed": false,
    "hideCode": false,
    "hidePrompt": false
   },
   "outputs": [],
   "source": [
    "import graphlab"
   ]
  },
  {
   "cell_type": "markdown",
   "metadata": {
    "hideCode": false,
    "hidePrompt": false
   },
   "source": [
    "# Load house sales data\n",
    "\n",
    "Dataset is from house sales in King County, the region where the city of Seattle, WA is located."
   ]
  },
  {
   "cell_type": "code",
   "execution_count": 2,
   "metadata": {
    "collapsed": false,
    "hideCode": false,
    "hidePrompt": false
   },
   "outputs": [
    {
     "name": "stdout",
     "output_type": "stream",
     "text": [
      "This non-commercial license of GraphLab Create for academic use is assigned to wjk68@case.edu and will expire on August 11, 2018.\n"
     ]
    },
    {
     "name": "stderr",
     "output_type": "stream",
     "text": [
      "[INFO] graphlab.cython.cy_server: GraphLab Create v2.1 started. Logging: C:\\Users\\WILLKO~1\\AppData\\Local\\Temp\\graphlab_server_1503105928.log.0\n"
     ]
    }
   ],
   "source": [
    "sales = graphlab.SFrame('kc_house_data.gl/')"
   ]
  },
  {
   "cell_type": "markdown",
   "metadata": {
    "hideCode": false,
    "hidePrompt": false
   },
   "source": [
    "# Split data into training and testing"
   ]
  },
  {
   "cell_type": "markdown",
   "metadata": {
    "hideCode": false,
    "hidePrompt": false
   },
   "source": [
    "We use seed=0 so that everyone running this notebook gets the same results.  In practice, you may set a random seed (or let GraphLab Create pick a random seed for you).  "
   ]
  },
  {
   "cell_type": "code",
   "execution_count": 3,
   "metadata": {
    "collapsed": false,
    "hideCode": false,
    "hidePrompt": false
   },
   "outputs": [],
   "source": [
    "train_data,test_data = sales.random_split(.8,seed=0)"
   ]
  },
  {
   "cell_type": "markdown",
   "metadata": {
    "hideCode": false,
    "hidePrompt": false
   },
   "source": [
    "# Useful SFrame summary functions"
   ]
  },
  {
   "cell_type": "markdown",
   "metadata": {
    "hideCode": false,
    "hidePrompt": false
   },
   "source": [
    "In order to make use of the closed form solution as well as take advantage of graphlab's built in functions we will review some important ones. In particular:\n",
    "* Computing the sum of an SArray\n",
    "* Computing the arithmetic average (mean) of an SArray\n",
    "* multiplying SArrays by constants\n",
    "* multiplying SArrays by other SArrays"
   ]
  },
  {
   "cell_type": "code",
   "execution_count": 4,
   "metadata": {
    "collapsed": false,
    "hideCode": false,
    "hidePrompt": false
   },
   "outputs": [
    {
     "name": "stdout",
     "output_type": "stream",
     "text": [
      "average price via method 1: 540088.141905\n",
      "average price via method 2: 540088.141905\n"
     ]
    }
   ],
   "source": [
    "# Let's compute the mean of the House Prices in King County in 2 different ways.\n",
    "prices = sales['price'] # extract the price column of the sales SFrame -- this is now an SArray\n",
    "\n",
    "# recall that the arithmetic average (the mean) is the sum of the prices divided by the total number of houses:\n",
    "sum_prices = prices.sum()\n",
    "num_houses = prices.size() # when prices is an SArray .size() returns its length\n",
    "avg_price_1 = sum_prices/num_houses\n",
    "avg_price_2 = prices.mean() # if you just want the average, the .mean() function\n",
    "print \"average price via method 1: \" + str(avg_price_1)\n",
    "print \"average price via method 2: \" + str(avg_price_2)"
   ]
  },
  {
   "cell_type": "markdown",
   "metadata": {
    "hideCode": false,
    "hidePrompt": false
   },
   "source": [
    "As we see we get the same answer both ways"
   ]
  },
  {
   "cell_type": "code",
   "execution_count": 5,
   "metadata": {
    "collapsed": false,
    "hideCode": false,
    "hidePrompt": false
   },
   "outputs": [
    {
     "name": "stdout",
     "output_type": "stream",
     "text": [
      "the sum of price squared is: 9.21732513355e+15\n"
     ]
    }
   ],
   "source": [
    "# if we want to multiply every price by 0.5 it's a simple as:\n",
    "half_prices = 0.5*prices\n",
    "# Let's compute the sum of squares of price. We can multiply two SArrays of the same length elementwise also with *\n",
    "prices_squared = prices*prices\n",
    "sum_prices_squared = prices_squared.sum() # price_squared is an SArray of the squares and we want to add them up.\n",
    "print \"the sum of price squared is: \" + str(sum_prices_squared)"
   ]
  },
  {
   "cell_type": "markdown",
   "metadata": {
    "hideCode": false,
    "hidePrompt": false
   },
   "source": [
    "Aside: The python notation x.xxe+yy means x.xx \\* 10^(yy). e.g 100 = 10^2 = 1*10^2 = 1e2 "
   ]
  },
  {
   "cell_type": "markdown",
   "metadata": {
    "hideCode": false,
    "hidePrompt": false
   },
   "source": [
    "# Build a generic simple linear regression function "
   ]
  },
  {
   "cell_type": "markdown",
   "metadata": {
    "hideCode": false,
    "hidePrompt": false
   },
   "source": [
    "Armed with these SArray functions we can use the closed form solution found from lecture to compute the slope and intercept for a simple linear regression on observations stored as SArrays: input_feature, output.\n",
    "\n",
    "Complete the following function (or write your own) to compute the simple linear regression slope and intercept:"
   ]
  },
  {
   "cell_type": "code",
   "execution_count": 19,
   "metadata": {
    "collapsed": false,
    "hideCode": false,
    "hidePrompt": false
   },
   "outputs": [],
   "source": [
    "def simple_linear_regression(input_feature, output):\n",
    "    # Numerator and denominator for slope expression \n",
    "    numerator = (output * input_feature).mean() - (input_feature.mean() * output.mean())\n",
    "    denominator = (input_feature ** 2).mean() - (input_feature.mean()) ** 2\n",
    "    # use the formula for the slope\n",
    "    slope = float(numerator) / denominator \n",
    "    # use the formula for the intercept\n",
    "    intercept = output.mean() - slope * input_feature.mean()\n",
    "    \n",
    "    return (intercept, slope)"
   ]
  },
  {
   "cell_type": "markdown",
   "metadata": {
    "hideCode": false,
    "hidePrompt": false
   },
   "source": [
    "We can test that our function works by passing it something where we know the answer. In particular we can generate a feature and then put the output exactly on a line: output = 1 + 1\\*input_feature then we know both our slope and intercept should be 1"
   ]
  },
  {
   "cell_type": "code",
   "execution_count": 20,
   "metadata": {
    "collapsed": false,
    "hideCode": false,
    "hidePrompt": false,
    "scrolled": true
   },
   "outputs": [
    {
     "name": "stdout",
     "output_type": "stream",
     "text": [
      "Intercept: 1.0\n",
      "Slope: 1.0\n"
     ]
    }
   ],
   "source": [
    "test_feature = graphlab.SArray(range(5))\n",
    "test_output = graphlab.SArray(1 + 1*test_feature)\n",
    "(test_intercept, test_slope) =  simple_linear_regression(test_feature, test_output)\n",
    "print \"Intercept: \" + str(test_intercept)\n",
    "print \"Slope: \" + str(test_slope)"
   ]
  },
  {
   "cell_type": "markdown",
   "metadata": {
    "hideCode": false,
    "hidePrompt": false
   },
   "source": [
    "Now that we know it works let's build a regression model for predicting price based on sqft_living. Rembember that we train on train_data!"
   ]
  },
  {
   "cell_type": "code",
   "execution_count": 21,
   "metadata": {
    "collapsed": false,
    "hideCode": false,
    "hidePrompt": false
   },
   "outputs": [
    {
     "name": "stdout",
     "output_type": "stream",
     "text": [
      "Intercept: -47116.0765749\n",
      "Slope: 281.958838568\n"
     ]
    }
   ],
   "source": [
    "sqft_intercept, sqft_slope = simple_linear_regression(train_data['sqft_living'], train_data['price'])\n",
    "\n",
    "print \"Intercept: \" + str(sqft_intercept)\n",
    "print \"Slope: \" + str(sqft_slope)"
   ]
  },
  {
   "cell_type": "markdown",
   "metadata": {
    "hideCode": false,
    "hidePrompt": false
   },
   "source": [
    "# Predicting Values"
   ]
  },
  {
   "cell_type": "markdown",
   "metadata": {
    "hideCode": false,
    "hidePrompt": false
   },
   "source": [
    "Now that we have the model parameters: intercept & slope we can make predictions. Using SArrays it's easy to multiply an SArray by a constant and add a constant value. Complete the following function to return the predicted output given the input_feature, slope and intercept:"
   ]
  },
  {
   "cell_type": "code",
   "execution_count": 22,
   "metadata": {
    "collapsed": false,
    "hideCode": false,
    "hidePrompt": false
   },
   "outputs": [],
   "source": [
    "def get_regression_predictions(input_feature, intercept, slope):\n",
    "    # calculate the predicted values:\n",
    "    predicted_values = intercept + slope * input_feature\n",
    "    return predicted_values"
   ]
  },
  {
   "cell_type": "markdown",
   "metadata": {
    "hideCode": false,
    "hidePrompt": false
   },
   "source": [
    "Now that we can calculate a prediction given the slope and intercept let's make a prediction. Use (or alter) the following to find out the estimated price for a house with 2650 squarefeet according to the squarefeet model we estimated above.\n",
    "\n",
    "**Quiz Question: Using your Slope and Intercept from (4), What is the predicted price for a house with 2650 sqft?**"
   ]
  },
  {
   "cell_type": "code",
   "execution_count": 23,
   "metadata": {
    "collapsed": false,
    "hideCode": false,
    "hidePrompt": false
   },
   "outputs": [
    {
     "name": "stdout",
     "output_type": "stream",
     "text": [
      "The estimated price for a house with 2650 squarefeet is $700074.85\n"
     ]
    }
   ],
   "source": [
    "my_house_sqft = 2650\n",
    "estimated_price = get_regression_predictions(my_house_sqft, sqft_intercept, sqft_slope)\n",
    "print \"The estimated price for a house with %d squarefeet is $%.2f\" % (my_house_sqft, estimated_price)"
   ]
  },
  {
   "cell_type": "markdown",
   "metadata": {
    "hideCode": false,
    "hidePrompt": false
   },
   "source": [
    "# Residual Sum of Squares"
   ]
  },
  {
   "cell_type": "markdown",
   "metadata": {
    "hideCode": false,
    "hidePrompt": false
   },
   "source": [
    "Now that we have a model and can make predictions let's evaluate our model using Residual Sum of Squares (RSS). Recall that RSS is the sum of the squares of the residuals and the residuals is just a fancy word for the difference between the predicted output and the true output. \n",
    "\n",
    "Complete the following (or write your own) function to compute the RSS of a simple linear regression model given the input_feature, output, intercept and slope:"
   ]
  },
  {
   "cell_type": "code",
   "execution_count": 24,
   "metadata": {
    "collapsed": true,
    "hideCode": false,
    "hidePrompt": false
   },
   "outputs": [],
   "source": [
    "def get_residual_sum_of_squares(input_feature, output, intercept, slope):\n",
    "    # First get the predictions\n",
    "    predictions = intercept + slope * input_feature\n",
    "    # then compute the residuals (since we are squaring it doesn't matter which order you subtract)\n",
    "    RSS = ((predictions - output) ** 2).sum()\n",
    "    # square the residuals and add them up\n",
    "\n",
    "    return(RSS)"
   ]
  },
  {
   "cell_type": "markdown",
   "metadata": {
    "hideCode": false,
    "hidePrompt": false
   },
   "source": [
    "Let's test our get_residual_sum_of_squares function by applying it to the test model where the data lie exactly on a line. Since they lie exactly on a line the residual sum of squares should be zero!"
   ]
  },
  {
   "cell_type": "code",
   "execution_count": 25,
   "metadata": {
    "collapsed": false,
    "hideCode": false,
    "hidePrompt": false
   },
   "outputs": [
    {
     "name": "stdout",
     "output_type": "stream",
     "text": [
      "0.0\n"
     ]
    }
   ],
   "source": [
    "print get_residual_sum_of_squares(test_feature, test_output, test_intercept, test_slope) # should be 0.0"
   ]
  },
  {
   "cell_type": "markdown",
   "metadata": {
    "hideCode": false,
    "hidePrompt": false
   },
   "source": [
    "Now use your function to calculate the RSS on training data from the squarefeet model calculated above.\n",
    "\n",
    "**Quiz Question: According to this function and the slope and intercept from the squarefeet model What is the RSS for the simple linear regression using squarefeet to predict prices on TRAINING data?**"
   ]
  },
  {
   "cell_type": "code",
   "execution_count": 26,
   "metadata": {
    "collapsed": false,
    "hideCode": false,
    "hidePrompt": false
   },
   "outputs": [
    {
     "name": "stdout",
     "output_type": "stream",
     "text": [
      "The RSS of predicting Prices based on Square Feet is : 1.20191835632e+15\n"
     ]
    }
   ],
   "source": [
    "rss_prices_on_sqft = get_residual_sum_of_squares(train_data['sqft_living'], train_data['price'], sqft_intercept, sqft_slope)\n",
    "print 'The RSS of predicting Prices based on Square Feet is : ' + str(rss_prices_on_sqft)"
   ]
  },
  {
   "cell_type": "markdown",
   "metadata": {
    "hideCode": false,
    "hidePrompt": false
   },
   "source": [
    "# Predict the squarefeet given price"
   ]
  },
  {
   "cell_type": "markdown",
   "metadata": {
    "hideCode": false,
    "hidePrompt": false
   },
   "source": [
    "What if we want to predict the squarefoot given the price? Since we have an equation y = a + b\\*x we can solve the function for x. So that if we have the intercept (a) and the slope (b) and the price (y) we can solve for the estimated squarefeet (x).\n",
    "\n",
    "Complete the following function to compute the inverse regression estimate, i.e. predict the input_feature given the output."
   ]
  },
  {
   "cell_type": "code",
   "execution_count": 29,
   "metadata": {
    "collapsed": true,
    "hideCode": false,
    "hidePrompt": false
   },
   "outputs": [],
   "source": [
    "def inverse_regression_predictions(output, intercept, slope):\n",
    "    # solve output = intercept + slope*input_feature for input_feature. Use this equation to compute the inverse predictions:\n",
    "    estimated_feature = (output - intercept) / float(slope)\n",
    "    return estimated_feature"
   ]
  },
  {
   "cell_type": "markdown",
   "metadata": {
    "hideCode": false,
    "hidePrompt": false
   },
   "source": [
    "Now that we have a function to compute the squarefeet given the price from our simple regression model let's see how big we might expect a house that costs $800,000 to be.\n",
    "\n",
    "**Quiz Question: According to this function and the regression slope and intercept from (3) what is the estimated square-feet for a house costing $800,000?**"
   ]
  },
  {
   "cell_type": "code",
   "execution_count": 30,
   "metadata": {
    "collapsed": false,
    "hideCode": false,
    "hidePrompt": false
   },
   "outputs": [
    {
     "name": "stdout",
     "output_type": "stream",
     "text": [
      "The estimated squarefeet for a house worth $800000.00 is 3004\n"
     ]
    }
   ],
   "source": [
    "my_house_price = 800000\n",
    "estimated_squarefeet = inverse_regression_predictions(my_house_price, sqft_intercept, sqft_slope)\n",
    "print \"The estimated squarefeet for a house worth $%.2f is %d\" % (my_house_price, estimated_squarefeet)"
   ]
  },
  {
   "cell_type": "markdown",
   "metadata": {
    "hideCode": false,
    "hidePrompt": false
   },
   "source": [
    "# New Model: estimate prices from bedrooms"
   ]
  },
  {
   "cell_type": "markdown",
   "metadata": {
    "hideCode": false,
    "hidePrompt": false
   },
   "source": [
    "We have made one model for predicting house prices using squarefeet, but there are many other features in the sales SFrame. \n",
    "Use your simple linear regression function to estimate the regression parameters from predicting Prices based on number of bedrooms. Use the training data!"
   ]
  },
  {
   "cell_type": "code",
   "execution_count": 33,
   "metadata": {
    "collapsed": false,
    "hideCode": false,
    "hidePrompt": false
   },
   "outputs": [
    {
     "name": "stdout",
     "output_type": "stream",
     "text": [
      "The intercept using number of bedrooms is $109473.180469 and the slope is $127588.95/bedroom\n"
     ]
    }
   ],
   "source": [
    "# Estimate the slope and intercept for predicting 'price' based on 'bedrooms'\n",
    "bedroom_intercept, bedroom_slope = simple_linear_regression(train_data['bedrooms'], train_data['price'])\n",
    "print('The intercept using number of bedrooms is ${} and the slope is ${:.2f}/bedroom'.format(bedroom_intercept, bedroom_slope))\n"
   ]
  },
  {
   "cell_type": "markdown",
   "metadata": {
    "hideCode": false,
    "hidePrompt": false
   },
   "source": [
    "# Test your Linear Regression Algorithm"
   ]
  },
  {
   "cell_type": "markdown",
   "metadata": {
    "hideCode": false,
    "hidePrompt": false
   },
   "source": [
    "Now we have two models for predicting the price of a house. How do we know which one is better? Calculate the RSS on the TEST data (remember this data wasn't involved in learning the model). Compute the RSS from predicting prices using bedrooms and from predicting prices using squarefeet.\n",
    "\n",
    "**Quiz Question: Which model (square feet or bedrooms) has lowest RSS on TEST data? Think about why this might be the case.**"
   ]
  },
  {
   "cell_type": "code",
   "execution_count": 37,
   "metadata": {
    "collapsed": false,
    "hideCode": false,
    "hidePrompt": false
   },
   "outputs": [
    {
     "name": "stdout",
     "output_type": "stream",
     "text": [
      "The RSS using only the bedrooms is 4.93364582868e+14\n"
     ]
    }
   ],
   "source": [
    "# Compute RSS when using bedrooms on TEST data:\n",
    "bedrooms_RSS = get_residual_sum_of_squares(test_data['bedrooms'] , test_data['price'], bedroom_intercept, bedroom_slope)\n",
    "print('The RSS using only the bedrooms is {}'.format(str(bedrooms_RSS)))"
   ]
  },
  {
   "cell_type": "code",
   "execution_count": 49,
   "metadata": {
    "collapsed": false,
    "hideCode": false,
    "hidePrompt": false
   },
   "outputs": [
    {
     "name": "stdout",
     "output_type": "stream",
     "text": [
      "The RSS using only the square feet is 2.75402936247e+14\n"
     ]
    }
   ],
   "source": [
    "# Compute RSS when using squarefeet on TEST data:\n",
    "sqft_RSS = get_residual_sum_of_squares(test_data['sqft_living'], test_data['price'], sqft_intercept, sqft_slope)\n",
    "print('The RSS using only the square feet is {}'.format(str(sqft_RSS)))"
   ]
  },
  {
   "cell_type": "markdown",
   "metadata": {
    "hideCode": false,
    "hidePrompt": false
   },
   "source": [
    "The RSS using only the square feet of living space is lower. The square feet of living space is more highly correlated with the price of a house than is the number of bedrooms."
   ]
  },
  {
   "cell_type": "code",
   "execution_count": 39,
   "metadata": {
    "collapsed": true,
    "hideCode": false,
    "hidePrompt": false
   },
   "outputs": [],
   "source": [
    "graphlab.canvas.set_target('ipynb')"
   ]
  },
  {
   "cell_type": "code",
   "execution_count": 41,
   "metadata": {
    "collapsed": false,
    "hideCode": false,
    "hidePrompt": false
   },
   "outputs": [
    {
     "data": {
      "application/javascript": [
       "$(\"head\").append($(\"<link/>\").attr({\n",
       "  rel:  \"stylesheet\",\n",
       "  type: \"text/css\",\n",
       "  href: \"//cdnjs.cloudflare.com/ajax/libs/font-awesome/4.1.0/css/font-awesome.min.css\"\n",
       "}));\n",
       "$(\"head\").append($(\"<link/>\").attr({\n",
       "  rel:  \"stylesheet\",\n",
       "  type: \"text/css\",\n",
       "  href: \"https://static.turi.com/products/graphlab-create/2.1/canvas/css/canvas.css\"\n",
       "}));\n",
       "\n",
       "            (function(){\n",
       "\n",
       "                var e = null;\n",
       "                if (typeof element == 'undefined') {\n",
       "                    var scripts = document.getElementsByTagName('script');\n",
       "                    var thisScriptTag = scripts[scripts.length-1];\n",
       "                    var parentDiv = thisScriptTag.parentNode;\n",
       "                    e = document.createElement('div');\n",
       "                    parentDiv.appendChild(e);\n",
       "                } else {\n",
       "                    e = element[0];\n",
       "                }\n",
       "\n",
       "                if (typeof requirejs !== 'undefined') {\n",
       "                    // disable load timeout; ipython_app.js is large and can take a while to load.\n",
       "                    requirejs.config({waitSeconds: 0});\n",
       "                }\n",
       "\n",
       "                require(['https://static.turi.com/products/graphlab-create/2.1/canvas/js/ipython_app.js'], function(IPythonApp){\n",
       "                    var app = new IPythonApp();\n",
       "                    app.attachView('sframe','Plots', {\"selected_variable\": {\"name\": [\"train_data\"], \"descriptives\": {\"rows\": 17384, \"columns\": 21}, \"view_component\": \"Plots\", \"view_file\": \"sframe\", \"view_params\": {\"y\": \"price\", \"x\": \"sqft_living\", \"columns\": [\"id\", \"date\", \"price\", \"bedrooms\", \"bathrooms\", \"sqft_living\", \"sqft_lot\", \"floors\", \"waterfront\", \"view\", \"condition\", \"grade\", \"sqft_above\", \"sqft_basement\", \"yr_built\", \"yr_renovated\", \"zipcode\", \"lat\", \"long\", \"sqft_living15\", \"sqft_lot15\"], \"view\": \"Scatter Plot\"}, \"view_components\": [\"Summary\", \"Table\", \"Bar Chart\", \"BoxWhisker Plot\", \"Line Chart\", \"Scatter Plot\", \"Heat Map\", \"Plots\"], \"type\": \"SFrame\", \"columns\": [{\"dtype\": \"str\", \"name\": \"id\"}, {\"dtype\": \"datetime\", \"name\": \"date\"}, {\"dtype\": \"float\", \"name\": \"price\"}, {\"dtype\": \"float\", \"name\": \"bedrooms\"}, {\"dtype\": \"float\", \"name\": \"bathrooms\"}, {\"dtype\": \"float\", \"name\": \"sqft_living\"}, {\"dtype\": \"int\", \"name\": \"sqft_lot\"}, {\"dtype\": \"str\", \"name\": \"floors\"}, {\"dtype\": \"int\", \"name\": \"waterfront\"}, {\"dtype\": \"int\", \"name\": \"view\"}, {\"dtype\": \"int\", \"name\": \"condition\"}, {\"dtype\": \"int\", \"name\": \"grade\"}, {\"dtype\": \"int\", \"name\": \"sqft_above\"}, {\"dtype\": \"int\", \"name\": \"sqft_basement\"}, {\"dtype\": \"int\", \"name\": \"yr_built\"}, {\"dtype\": \"int\", \"name\": \"yr_renovated\"}, {\"dtype\": \"str\", \"name\": \"zipcode\"}, {\"dtype\": \"float\", \"name\": \"lat\"}, {\"dtype\": \"float\", \"name\": \"long\"}, {\"dtype\": \"float\", \"name\": \"sqft_living15\"}, {\"dtype\": \"float\", \"name\": \"sqft_lot15\"}], \"column_identifiers\": [\"bathrooms\", \"sqft_living15\", \"sqft_above\", \"grade\", \"yr_built\", \"price\", \"bedrooms\", \"zipcode\", \"long\", \"id\", \"sqft_lot15\", \"sqft_living\", \"floors\", \"sqft_lot\", \"date\", \"waterfront\", \"sqft_basement\", \"yr_renovated\", \"lat\", \"condition\", \"view\"]}, \"complete\": 1, \"ipython\": true, \"progress\": 1.0, \"data\": [[1040.0, 425000.0], [1720.0, 330000.0], [720.0, 199900.0], [1610.0, 425000.0], [1520.0, 269950.0], [4590.0, 1148000.0], [1260.0, 282000.0], [1060.0, 291850.0], [2810.0, 750000.0], [970.0, 560000.0], [1580.0, 720000.0], [2210.0, 359950.0], [1510.0, 419000.0], [1810.0, 530000.0], [2140.0, 349950.0], [2770.0, 760000.0], [2870.0, 700000.0], [2980.0, 1339000.0], [1620.0, 385000.0], [1170.0, 330000.0], [2270.0, 285000.0], [3650.0, 861111.0], [1320.0, 535000.0], [1620.0, 545000.0], [1400.0, 515000.0], [2410.0, 537000.0], [1080.0, 329500.0], [1650.0, 350000.0], [1600.0, 290000.0], [2060.0, 746300.0], [2340.0, 560000.0], [1830.0, 354000.0], [1590.0, 454000.0], [3360.0, 765000.0], [4320.0, 1800000.0], [1360.0, 263400.0], [900.0, 83000.0], [1180.0, 273000.0], [3030.0, 590000.0], [1790.0, 413100.0], [1670.0, 555565.0], [2430.0, 330000.0], [2010.0, 972000.0], [2080.0, 248000.0], [3820.0, 1250000.0], [2140.0, 528000.0], [2140.0, 339950.0], [1720.0, 326000.0], [2120.0, 400000.0], [3570.0, 928990.0], [1810.0, 515000.0], [1180.0, 600000.0], [1850.0, 580000.0], [1890.0, 372000.0], [1700.0, 750000.0], [2130.0, 593450.0], [2210.0, 470000.0], [2060.0, 286000.0], [3200.0, 995000.0], [1940.0, 423800.0], [2960.0, 883000.0], [960.0, 242000.0], [930.0, 100000.0], [2510.0, 605000.0], [1920.0, 465000.0], [3720.0, 960000.0], [2450.0, 800000.0], [4883.0, 537000.0], [2610.0, 674600.0], [1110.0, 302000.0], [2020.0, 355000.0], [1990.0, 490000.0], [1950.0, 275000.0], [2320.0, 640000.0], [1610.0, 268000.0], [850.0, 229950.0], [1643.0, 324950.0], [2770.0, 715000.0], [1440.0, 274000.0], [2130.0, 260000.0], [1350.0, 335000.0], [3520.0, 589500.0], [2330.0, 1150000.0], [1210.0, 235000.0], [2020.0, 744000.0], [1460.0, 455500.0], [1950.0, 275000.0], [2795.0, 562000.0], [3002.0, 394500.0], [2250.0, 735000.0], [1520.0, 210000.0], [2210.0, 383150.0], [901.0, 435000.0], [1200.0, 173000.0], [940.0, 435000.0], [1180.0, 250000.0], [1860.0, 301350.0], [3030.0, 1220000.0], [1700.0, 220000.0], [2070.0, 465000.0], [1000.0, 180000.0], [2750.0, 615000.0], [5510.0, 3800000.0], [1180.0, 249500.0], [1200.0, 210000.0], [2600.0, 600000.0], [2010.0, 515000.0], [3350.0, 400000.0], [2650.0, 770000.0], [3910.0, 1749000.0], [2300.0, 303000.0], [840.0, 130000.0], [2170.0, 850000.0], [2900.0, 930000.0], [2690.0, 515000.0], [2238.0, 330000.0], [1400.0, 395000.0], [2500.0, 772000.0], [1500.0, 245000.0], [2510.0, 520000.0], [2470.0, 618000.0], [1720.0, 248500.0], [2000.0, 775000.0], [3000.0, 394000.0], [7000.0, 3200000.0], [2190.0, 602500.0], [4230.0, 1940000.0], [1840.0, 480000.0], [1150.0, 300000.0], [2790.0, 535000.0], [2650.0, 525000.0], [1510.0, 465000.0], [3880.0, 815000.0], [2960.0, 735000.0], [1370.0, 563250.0], [2650.0, 665000.0], [1010.0, 315000.0], [1130.0, 411500.0], [1680.0, 572000.0], [1030.0, 229950.0], [3030.0, 998000.0], [1980.0, 900000.0], [1150.0, 115000.0], [3370.0, 760000.0], [2920.0, 660000.0], [3940.0, 695000.0], [1700.0, 294000.0], [2550.0, 595000.0], [1680.0, 345000.0], [1714.0, 305000.0], [1980.0, 428000.0], [770.0, 197000.0], [2380.0, 470000.0], [2040.0, 510000.0], [2460.0, 635000.0], [1900.0, 220000.0], [3180.0, 1115000.0], [1680.0, 555000.0], [3850.0, 1400000.0], [1490.0, 255000.0], [1510.0, 250000.0], [1050.0, 210000.0], [3060.0, 708000.0], [2880.0, 845000.0], [2180.0, 625000.0], [2080.0, 448500.0], [1940.0, 425590.0], [2230.0, 415000.0], [4010.0, 849000.0], [2620.0, 683000.0], [2480.0, 408506.0], [1910.0, 175000.0], [4060.0, 880000.0], [1010.0, 270000.0], [1830.0, 639000.0], [1630.0, 419900.0], [1910.0, 293000.0], [1770.0, 712500.0], [2190.0, 335000.0], [2310.0, 336950.0], [3700.0, 889950.0], [2180.0, 363500.0], [1340.0, 399000.0], [1140.0, 400000.0], [1460.0, 260000.0], [2050.0, 670000.0], [2760.0, 492500.0], [1290.0, 605000.0], [840.0, 190000.0], [790.0, 268500.0], [2180.0, 650000.0], [800.0, 402500.0], [1820.0, 239975.0], [3266.0, 424950.0], [2110.0, 747450.0], [1560.0, 600000.0], [2240.0, 452500.0], [1880.0, 725000.0], [2220.0, 416000.0], [2990.0, 440000.0], [1320.0, 425000.0], [4410.0, 472000.0], [1520.0, 375000.0], [2050.0, 320000.0], [1490.0, 256400.0], [1420.0, 535000.0], [2340.0, 850000.0], [10040.0, 7062500.0], [2490.0, 370000.0], [2600.0, 695000.0], [1860.0, 310000.0], [1120.0, 230000.0], [1410.0, 279800.0], [1920.0, 535000.0], [1920.0, 490000.0], [1800.0, 930000.0], [2360.0, 709000.0], [3620.0, 394000.0], [1440.0, 335000.0], [1400.0, 460000.0], [1580.0, 787500.0], [1710.0, 385000.0], [1120.0, 360000.0], [2950.0, 1065500.0], [3560.0, 756000.0], [1810.0, 449000.0], [1640.0, 350000.0], [2490.0, 740000.0], [1150.0, 376000.0], [1400.0, 357250.0], [2020.0, 330000.0], [2350.0, 291000.0], [1800.0, 332500.0], [2290.0, 450000.0], [1008.0, 480000.0], [1810.0, 384205.0], [2030.0, 389000.0], [1770.0, 350000.0], [1980.0, 239000.0], [2120.0, 295000.0], [1630.0, 509000.0], [2360.0, 702500.0], [1010.0, 155000.0], [2460.0, 452500.0], [2744.0, 300000.0], [1800.0, 606400.0], [2870.0, 730000.0], [1600.0, 490000.0], [3600.0, 729999.0], [1590.0, 267500.0], [3920.0, 3100000.0], [1980.0, 359950.0], [3650.0, 824000.0], [2320.0, 568000.0], [1800.0, 550000.0], [4370.0, 897500.0], [1690.0, 270000.0], [2660.0, 1712750.0], [3720.0, 820000.0], [2660.0, 760000.0], [1900.0, 229950.0], [1350.0, 410000.0], [1290.0, 310000.0], [2490.0, 868500.0], [1700.0, 334950.0], [1200.0, 203000.0], [1320.0, 526000.0], [8670.0, 2888000.0], [1410.0, 517950.0], [1160.0, 525000.0], [1840.0, 185000.0], [2390.0, 415000.0], [1660.0, 250000.0], [980.0, 133000.0], [1960.0, 260000.0], [1340.0, 621000.0], [1420.0, 490000.0], [1160.0, 310000.0], [3150.0, 854000.0], [1300.0, 398000.0], [1000.0, 165000.0], [1940.0, 299000.0], [3330.0, 1205000.0], [980.0, 201000.0], [1670.0, 270000.0], [1900.0, 235000.0], [2475.0, 319900.0], [1980.0, 235000.0], [1110.0, 371000.0], [1680.0, 306000.0], [2100.0, 546000.0], [2280.0, 383000.0], [1660.0, 410000.0], [2110.0, 604950.0], [1280.0, 290000.0], [2540.0, 525000.0], [2420.0, 675000.0], [2930.0, 422000.0], [1570.0, 325000.0], [3450.0, 380000.0], [2390.0, 363000.0], [3230.0, 730000.0], [740.0, 299000.0], [1960.0, 680200.0], [1300.0, 435000.0], [1690.0, 245000.0], [2650.0, 699000.0], [1790.0, 450000.0], [1730.0, 243400.0], [2230.0, 920000.0], [1980.0, 309000.0], [1120.0, 227000.0], [960.0, 160000.0], [2890.0, 502000.0], [2370.0, 499950.0], [1220.0, 330000.0], [2040.0, 730000.0], [920.0, 380000.0], [1620.0, 425000.0], [2650.0, 695000.0], [2290.0, 620000.0], [1110.0, 499000.0], [1140.0, 327000.0], [1760.0, 500000.0], [1410.0, 271920.0], [2560.0, 740000.0], [2700.0, 402000.0], [2120.0, 720168.0], [960.0, 265000.0], [1380.0, 253750.0], [1090.0, 249000.0], [980.0, 550000.0], [1330.0, 424000.0], [2960.0, 654000.0], [3001.0, 373000.0], [900.0, 230000.0], [1840.0, 433000.0], [2095.0, 711000.0], [620.0, 402000.0], [2610.0, 925000.0], [1310.0, 229999.0], [2560.0, 518000.0], [3000.0, 490500.0], [3400.0, 475000.0], [2370.0, 348000.0], [1050.0, 220000.0], [3130.0, 843000.0], [860.0, 216000.0], [3680.0, 1475000.0], [1560.0, 525000.0], [1370.0, 655000.0], [1290.0, 500000.0], [1520.0, 415000.0], [1740.0, 435000.0], [1460.0, 232000.0], [1520.0, 320000.0], [1450.0, 320000.0], [740.0, 450000.0], [1940.0, 580000.0], [1980.0, 307550.0], [800.0, 439000.0], [1500.0, 284000.0], [2550.0, 371000.0], [1020.0, 455000.0], [1720.0, 341000.0], [1080.0, 379950.0], [2950.0, 921800.0], [1270.0, 570000.0], [1870.0, 565000.0], [2660.0, 751305.0], [3500.0, 350000.0], [1358.0, 311600.0], [1400.0, 252000.0], [2360.0, 577000.0], [2920.0, 555000.0], [2570.0, 500000.0], [900.0, 205500.0], [4070.0, 1480000.0], [1300.0, 492000.0], [1710.0, 561000.0], [1131.0, 394950.0], [1740.0, 650000.0], [2520.0, 840500.0], [3800.0, 450000.0], [3440.0, 1305000.0], [2580.0, 481000.0], [3010.0, 765000.0], [1680.0, 439000.0], [1360.0, 240000.0], [2300.0, 224000.0], [1480.0, 635000.0], [2090.0, 550000.0], [2620.0, 615000.0], [1980.0, 400000.0], [2600.0, 700000.0], [2620.0, 659500.0], [1650.0, 320000.0], [2700.0, 580000.0], [2580.0, 898000.0], [1910.0, 395000.0], [1520.0, 738000.0], [2440.0, 278800.0], [4030.0, 1485000.0], [2290.0, 339950.0], [1670.0, 282000.0], [2100.0, 505000.0], [3030.0, 400000.0], [1170.0, 336750.0], [1660.0, 225000.0], [2570.0, 439000.0], [2732.0, 343000.0], [1290.0, 365000.0], [2010.0, 360000.0], [1620.0, 657500.0], [2460.0, 835000.0], [1070.0, 208000.0], [1640.0, 505400.0], [1750.0, 475000.0], [3580.0, 925000.0], [1660.0, 330000.0], [1540.0, 263500.0], [3320.0, 622500.0], [3170.0, 799000.0], [1060.0, 279475.0], [2940.0, 635000.0], [670.0, 279000.0], [1950.0, 669000.0], [1930.0, 670000.0], [1129.0, 330000.0], [3350.0, 910000.0], [2380.0, 782000.0], [3280.0, 750000.0], [2490.0, 454800.0], [1360.0, 253200.0], [1300.0, 257500.0], [1650.0, 292000.0], [1240.0, 390000.0], [2410.0, 805000.0], [1730.0, 287000.0], [930.0, 176500.0], [1300.0, 230000.0], [2050.0, 331500.0], [1170.0, 255000.0], [1370.0, 160000.0], [3280.0, 730000.0], [1960.0, 520000.0], [5410.0, 2544750.0], [1530.0, 257500.0], [2490.0, 500000.0], [1200.0, 186000.0], [2560.0, 442000.0], [3180.0, 1149000.0], [2320.0, 451000.0], [3045.0, 414000.0], [1730.0, 313100.0], [3090.0, 850000.0], [2660.0, 603500.0], [1200.0, 395000.0], [1820.0, 264000.0], [1220.0, 177500.0], [3250.0, 562000.0], [3610.0, 968000.0], [1350.0, 211000.0], [1060.0, 326500.0], [2500.0, 650000.0], [2700.0, 1365000.0], [4060.0, 1600000.0], [3420.0, 925000.0], [1100.0, 570000.0], [1890.0, 618000.0], [2000.0, 755000.0], [1870.0, 475000.0], [1530.0, 575000.0], [3590.0, 879000.0], [2310.0, 525000.0], [610.0, 286000.0], [2300.0, 635000.0], [1580.0, 428000.0], [620.0, 148000.0], [1540.0, 520000.0], [2000.0, 500000.0], [1870.0, 650000.0], [1480.0, 239900.0], [1590.0, 665000.0], [2550.0, 537500.0], [2760.0, 952000.0], [3030.0, 815000.0], [1430.0, 220000.0], [1050.0, 250000.0], [3640.0, 555000.0], [3030.0, 455000.0], [1390.0, 450000.0], [1080.0, 350000.0], [3500.0, 655000.0], [2010.0, 627800.0], [3710.0, 641000.0], [1390.0, 267500.0], [3270.0, 650000.0], [1290.0, 305000.0], [1470.0, 244000.0], [2300.0, 705000.0], [670.0, 340000.0], [1450.0, 279000.0], [2200.0, 265000.0], [1500.0, 300000.0], [1810.0, 1247000.0], [4570.0, 1037000.0], [1340.0, 297000.0], [2414.0, 292000.0], [1710.0, 650000.0], [1170.0, 265000.0], [1680.0, 545000.0], [1350.0, 350000.0], [1520.0, 619950.0], [780.0, 248500.0], [3180.0, 439000.0], [760.0, 344000.0], [1470.0, 419000.0], [1720.0, 234950.0], [2450.0, 299000.0], [2400.0, 575000.0], [2650.0, 870000.0], [1040.0, 341000.0], [3680.0, 755000.0], [1560.0, 347000.0], [970.0, 360500.0], [390.0, 228000.0], [3620.0, 1164000.0], [2420.0, 329990.0], [1710.0, 431000.0], [1700.0, 435000.0], [1530.0, 332000.0], [2850.0, 645000.0], [1760.0, 460000.0], [1040.0, 382500.0], [1580.0, 517100.0], [3170.0, 1600000.0], [3270.0, 435000.0], [1440.0, 222000.0], [2860.0, 499950.0], [1980.0, 449000.0], [1820.0, 460000.0], [1090.0, 598800.0], [1850.0, 257200.0], [1230.0, 435000.0], [3020.0, 780000.0], [1390.0, 306500.0], [2850.0, 655000.0], [7100.0, 3200000.0], [2390.0, 338500.0], [2080.0, 467000.0], [1450.0, 245000.0], [1890.0, 311850.0], [1730.0, 445000.0], [2470.0, 365000.0], [1890.0, 359950.0], [2570.0, 1180000.0], [2800.0, 325000.0], [2420.0, 500000.0], [2640.0, 678000.0], [1930.0, 558000.0], [2710.0, 600000.0], [2040.0, 319900.0], [2670.0, 690000.0], [2210.0, 334000.0], [1530.0, 265000.0], [1650.0, 599000.0], [2490.0, 527900.0], [2100.0, 525000.0], [1790.0, 302000.0], [1480.0, 270000.0], [2820.0, 1600000.0], [940.0, 185000.0], [2140.0, 636000.0], [1250.0, 330000.0], [1160.0, 605125.0], [700.0, 208000.0], [1070.0, 357500.0], [1400.0, 343000.0], [1700.0, 511718.0], [1920.0, 329000.0], [1500.0, 330000.0], [2250.0, 1050000.0], [3130.0, 671000.0], [1540.0, 525000.0], [1390.0, 550000.0], [1200.0, 464950.0], [940.0, 253905.0], [1550.0, 555000.0], [1690.0, 440000.0], [1510.0, 435000.0], [1961.0, 289000.0], [3990.0, 570000.0], [2950.0, 551500.0], [2550.0, 430000.0], [1490.0, 445000.0], [1800.0, 365000.0], [2830.0, 405600.0], [3610.0, 603000.0], [3630.0, 1563100.0], [1540.0, 450000.0], [1040.0, 324950.0], [1760.0, 780500.0], [970.0, 205950.0], [2110.0, 298700.0], [1590.0, 247000.0], [1410.0, 410000.0], [1770.0, 401000.0], [1830.0, 378500.0], [1100.0, 450000.0], [1780.0, 350000.0], [2080.0, 545000.0], [2370.0, 305000.0], [2160.0, 520000.0], [1250.0, 305000.0], [1430.0, 427500.0], [1010.0, 315000.0], [1700.0, 585000.0], [2810.0, 674000.0], [1700.0, 268000.0], [910.0, 465000.0], [1100.0, 420000.0], [1860.0, 215000.0], [2440.0, 455000.0], [1870.0, 270000.0], [1840.0, 720000.0], [900.0, 304000.0], [2500.0, 525000.0], [1760.0, 220000.0], [2168.0, 575000.0], [1400.0, 305000.0], [1560.0, 627500.0], [1550.0, 385200.0], [2860.0, 378500.0], [1960.0, 308000.0], [1520.0, 249000.0], [1900.0, 1210000.0], [2100.0, 522500.0], [1180.0, 400000.0], [1550.0, 415000.0], [3230.0, 772500.0], [3230.0, 765000.0], [950.0, 395000.0], [2760.0, 847093.0], [2643.0, 376950.0], [1920.0, 385000.0], [2020.0, 345000.0], [1020.0, 212000.0], [1810.0, 287500.0], [1210.0, 299900.0], [1600.0, 302000.0], [1650.0, 460000.0], [2280.0, 433000.0], [1620.0, 305000.0], [2990.0, 600000.0], [3550.0, 2100000.0], [1420.0, 435000.0], [2010.0, 639000.0], [1390.0, 199000.0], [2880.0, 560000.0], [4350.0, 1150000.0], [810.0, 229000.0], [2750.0, 1030000.0], [1640.0, 365000.0], [2130.0, 305000.0], [3750.0, 725000.0], [1820.0, 479950.0], [1940.0, 635000.0], [1320.0, 240000.0], [1970.0, 340000.0], [2980.0, 330000.0], [2390.0, 650000.0], [1840.0, 279000.0], [1600.0, 375000.0], [1730.0, 292000.0], [1810.0, 230000.0], [1180.0, 193000.0], [1720.0, 265000.0], [1440.0, 430000.0], [1180.0, 310000.0], [1200.0, 483500.0], [1410.0, 375000.0], [1400.0, 295000.0], [1670.0, 620000.0], [2605.0, 1017000.0], [3310.0, 999950.0], [1460.0, 285000.0], [2390.0, 545000.0], [3440.0, 853000.0], [1000.0, 225000.0], [2960.0, 389500.0], [3000.0, 523000.0], [1620.0, 514000.0], [3000.0, 600000.0], [1520.0, 425500.0], [1020.0, 229000.0], [2980.0, 574000.0], [3840.0, 1135000.0], [1480.0, 320000.0], [3410.0, 1039000.0], [1060.0, 335000.0], [1640.0, 405000.0], [2370.0, 749950.0], [3085.0, 359000.0], [1800.0, 180500.0], [3860.0, 840000.0], [740.0, 299500.0], [1714.0, 307000.0], [1780.0, 305000.0], [2220.0, 771000.0], [4060.0, 1175000.0], [1540.0, 221000.0], [1650.0, 428000.0], [1630.0, 729999.0], [4410.0, 1320000.0], [1290.0, 258800.0], [2300.0, 498000.0], [1460.0, 299880.0], [2520.0, 372000.0], [1480.0, 325000.0], [1240.0, 336000.0], [730.0, 114000.0], [4850.0, 975000.0], [980.0, 452000.0], [1080.0, 228500.0], [2920.0, 650000.0], [1350.0, 468500.0], [970.0, 165000.0], [1540.0, 484998.0], [1600.0, 465000.0], [1680.0, 653500.0], [2440.0, 662700.0], [1220.0, 201000.0], [2940.0, 528000.0], [1930.0, 469500.0], [2720.0, 429000.0], [3220.0, 335000.0], [1360.0, 355000.0], [1380.0, 435000.0], [1910.0, 323000.0], [2331.0, 345000.0], [2040.0, 452500.0], [3180.0, 895950.0], [620.0, 244900.0], [3831.0, 2700000.0], [2060.0, 485000.0], [1750.0, 420000.0], [1650.0, 485000.0], [1860.0, 350000.0], [2480.0, 615000.0], [3310.0, 829000.0], [2090.0, 775000.0], [680.0, 365000.0], [2270.0, 645000.0], [2330.0, 732000.0], [2660.0, 579000.0], [2020.0, 720000.0], [1530.0, 419950.0], [1440.0, 250000.0], [3920.0, 889000.0], [1970.0, 580000.0], [1260.0, 531000.0], [1210.0, 678500.0], [1240.0, 900000.0], [1520.0, 333000.0], [1980.0, 342000.0], [2740.0, 630000.0], [1560.0, 440000.0], [850.0, 132500.0], [2390.0, 432500.0], [1600.0, 995000.0], [1560.0, 273500.0], [2290.0, 420000.0], [1800.0, 440000.0], [2650.0, 542525.0], [2830.0, 540000.0], [2870.0, 720000.0], [2120.0, 828000.0], [1490.0, 203000.0], [1420.0, 410000.0], [4420.0, 1325000.0], [1400.0, 200000.0], [1380.0, 462000.0], [1040.0, 411100.0], [3280.0, 785500.0], [2860.0, 645000.0], [2700.0, 314900.0], [1500.0, 399000.0], [1670.0, 484950.0], [1140.0, 120750.0], [1610.0, 313500.0], [2450.0, 715000.0], [2350.0, 430000.0], [1510.0, 234950.0], [2430.0, 305000.0], [2963.0, 325000.0], [1570.0, 660000.0], [2240.0, 654000.0], [2340.0, 314000.0], [2590.0, 503000.0], [2580.0, 802000.0], [3840.0, 612000.0], [2420.0, 697000.0], [2290.0, 570000.0], [2330.0, 625000.0], [3270.0, 1210000.0], [4160.0, 1150000.0], [2460.0, 900000.0], [4130.0, 995000.0], [1820.0, 422800.0], [4060.0, 1795000.0], [1410.0, 400000.0], [1640.0, 261490.0], [2560.0, 599000.0], [1550.0, 425000.0], [1370.0, 287000.0], [3290.0, 716500.0], [1670.0, 304000.0], [2242.0, 329900.0], [1320.0, 342500.0], [2020.0, 463000.0], [1850.0, 1375000.0], [2280.0, 415000.0], [1010.0, 636100.0], [2080.0, 249900.0], [3220.0, 768000.0], [2180.0, 560000.0], [2070.0, 395000.0], [2770.0, 645000.0], [3690.0, 1125000.0], [1220.0, 319000.0], [2570.0, 626000.0], [1680.0, 700000.0], [1340.0, 592500.0], [1840.0, 590000.0], [1540.0, 445000.0], [1230.0, 375000.0], [2800.0, 440000.0], [1010.0, 501000.0], [1280.0, 291000.0], [1010.0, 316000.0], [1640.0, 669000.0], [2500.0, 580000.0], [1610.0, 440000.0], [2600.0, 525000.0], [2390.0, 557500.0], [2990.0, 698000.0], [1650.0, 265000.0], [2760.0, 602500.0], [2160.0, 228950.0], [1970.0, 415000.0], [920.0, 265000.0], [1620.0, 498000.0], [1680.0, 350000.0], [1490.0, 385000.0], [1200.0, 185000.0], [1920.0, 480000.0], [3320.0, 685000.0], [2600.0, 555000.0], [670.0, 415000.0], [3230.0, 950000.0], [2700.0, 338150.0], [3130.0, 1333000.0], [980.0, 329900.0], [2520.0, 765000.0], [1990.0, 760500.0], [2070.0, 289950.0], [2020.0, 528000.0], [2080.0, 330000.0], [3410.0, 545000.0], [1540.0, 640000.0], [1540.0, 262500.0], [1160.0, 389000.0], [1660.0, 247500.0], [2115.0, 272000.0], [2190.0, 855000.0], [1860.0, 572000.0], [2880.0, 733000.0], [2040.0, 726000.0], [1340.0, 550000.0], [3720.0, 1050000.0], [2990.0, 644500.0], [990.0, 365000.0], [6880.0, 1488000.0], [1350.0, 405000.0], [2080.0, 480000.0], [1840.0, 275000.0], [1360.0, 439500.0], [1140.0, 390000.0], [1340.0, 907000.0], [2960.0, 1015000.0], [2260.0, 605000.0], [1220.0, 355000.0], [1440.0, 439950.0], [1500.0, 262500.0], [1780.0, 691000.0], [1776.0, 620000.0], [1250.0, 219000.0], [2960.0, 1135000.0], [1180.0, 336000.0], [1250.0, 282000.0], [970.0, 345000.0], [1450.0, 244000.0], [2990.0, 510000.0], [3010.0, 542500.0], [1090.0, 430000.0], [2390.0, 695000.0], [1180.0, 193000.0], [3970.0, 949990.0], [1440.0, 705000.0], [710.0, 245000.0], [2560.0, 485000.0], [1030.0, 277284.0], [960.0, 545000.0], [1480.0, 275000.0], [5210.0, 2195000.0], [900.0, 370000.0], [2910.0, 915000.0], [4000.0, 802945.0], [2390.0, 267500.0], [3000.0, 527000.0], [1460.0, 700000.0], [1580.0, 549800.0], [1250.0, 353000.0], [2280.0, 446000.0], [2370.0, 435000.0], [2570.0, 655000.0], [2440.0, 274700.0], [3060.0, 650000.0], [2650.0, 728000.0], [770.0, 378510.0], [1760.0, 444950.0], [1860.0, 370000.0], [2090.0, 717500.0], [1830.0, 593000.0], [2170.0, 638000.0], [2000.0, 399950.0], [2320.0, 324950.0], [2630.0, 585000.0], [1410.0, 299950.0], [2690.0, 460000.0], [940.0, 265000.0], [1980.0, 357000.0], [2760.0, 745000.0], [1410.0, 340000.0], [1760.0, 405000.0], [1450.0, 460000.0], [2360.0, 572000.0], [1780.0, 315000.0], [2530.0, 450000.0], [860.0, 311000.0], [980.0, 378000.0], [1350.0, 245000.0], [1330.0, 300000.0], [2100.0, 299000.0], [2790.0, 533380.0], [2030.0, 525000.0], [990.0, 207000.0], [2280.0, 325000.0], [2460.0, 704111.0], [2740.0, 775000.0], [880.0, 525000.0], [1100.0, 189650.0], [1995.0, 271500.0], [2420.0, 345000.0], [4110.0, 1875000.0], [1330.0, 500000.0], [1700.0, 585000.0], [2830.0, 451000.0], [1220.0, 470000.0], [1350.0, 600000.0], [2280.0, 475000.0], [990.0, 219950.0], [3810.0, 752000.0], [750.0, 325000.0], [2370.0, 577000.0], [3030.0, 608250.0], [1520.0, 171000.0], [2510.0, 410000.0], [720.0, 235000.0], [2680.0, 635000.0], [2840.0, 718500.0], [4240.0, 625000.0], [1180.0, 257500.0], [1410.0, 379500.0], [790.0, 395000.0], [3732.0, 1225000.0], [1360.0, 550000.0], [3280.0, 458000.0], [2490.0, 495000.0], [4320.0, 565000.0], [2040.0, 667500.0], [2040.0, 345000.0], [3030.0, 321000.0], [1741.0, 300000.0], [1950.0, 260000.0], [1240.0, 625000.0], [2010.0, 530000.0], [3150.0, 614000.0], [2470.0, 732500.0]], \"columns\": [{\"dtype\": \"str\", \"name\": \"id\"}, {\"dtype\": \"datetime\", \"name\": \"date\"}, {\"dtype\": \"float\", \"name\": \"price\"}, {\"dtype\": \"float\", \"name\": \"bedrooms\"}, {\"dtype\": \"float\", \"name\": \"bathrooms\"}, {\"dtype\": \"float\", \"name\": \"sqft_living\"}, {\"dtype\": \"int\", \"name\": \"sqft_lot\"}, {\"dtype\": \"str\", \"name\": \"floors\"}, {\"dtype\": \"int\", \"name\": \"waterfront\"}, {\"dtype\": \"int\", \"name\": \"view\"}, {\"dtype\": \"int\", \"name\": \"condition\"}, {\"dtype\": \"int\", \"name\": \"grade\"}, {\"dtype\": \"int\", \"name\": \"sqft_above\"}, {\"dtype\": \"int\", \"name\": \"sqft_basement\"}, {\"dtype\": \"int\", \"name\": \"yr_built\"}, {\"dtype\": \"int\", \"name\": \"yr_renovated\"}, {\"dtype\": \"str\", \"name\": \"zipcode\"}, {\"dtype\": \"float\", \"name\": \"lat\"}, {\"dtype\": \"float\", \"name\": \"long\"}, {\"dtype\": \"float\", \"name\": \"sqft_living15\"}, {\"dtype\": \"float\", \"name\": \"sqft_lot15\"}]}, e);\n",
       "                });\n",
       "            })();\n",
       "        "
      ]
     },
     "metadata": {},
     "output_type": "display_data"
    }
   ],
   "source": [
    "train_data.show(view='Scatter Plot', x = 'sqft_living', y='price')"
   ]
  },
  {
   "cell_type": "code",
   "execution_count": 43,
   "metadata": {
    "collapsed": false,
    "hideCode": false,
    "hidePrompt": false
   },
   "outputs": [
    {
     "data": {
      "application/javascript": [
       "$(\"head\").append($(\"<link/>\").attr({\n",
       "  rel:  \"stylesheet\",\n",
       "  type: \"text/css\",\n",
       "  href: \"//cdnjs.cloudflare.com/ajax/libs/font-awesome/4.1.0/css/font-awesome.min.css\"\n",
       "}));\n",
       "$(\"head\").append($(\"<link/>\").attr({\n",
       "  rel:  \"stylesheet\",\n",
       "  type: \"text/css\",\n",
       "  href: \"https://static.turi.com/products/graphlab-create/2.1/canvas/css/canvas.css\"\n",
       "}));\n",
       "\n",
       "            (function(){\n",
       "\n",
       "                var e = null;\n",
       "                if (typeof element == 'undefined') {\n",
       "                    var scripts = document.getElementsByTagName('script');\n",
       "                    var thisScriptTag = scripts[scripts.length-1];\n",
       "                    var parentDiv = thisScriptTag.parentNode;\n",
       "                    e = document.createElement('div');\n",
       "                    parentDiv.appendChild(e);\n",
       "                } else {\n",
       "                    e = element[0];\n",
       "                }\n",
       "\n",
       "                if (typeof requirejs !== 'undefined') {\n",
       "                    // disable load timeout; ipython_app.js is large and can take a while to load.\n",
       "                    requirejs.config({waitSeconds: 0});\n",
       "                }\n",
       "\n",
       "                require(['https://static.turi.com/products/graphlab-create/2.1/canvas/js/ipython_app.js'], function(IPythonApp){\n",
       "                    var app = new IPythonApp();\n",
       "                    app.attachView('sframe','Plots', {\"selected_variable\": {\"name\": [\"train_data\"], \"descriptives\": {\"rows\": 17384, \"columns\": 21}, \"view_component\": \"Plots\", \"view_file\": \"sframe\", \"view_params\": {\"y\": \"price\", \"x\": \"bedrooms\", \"columns\": [\"id\", \"date\", \"price\", \"bedrooms\", \"bathrooms\", \"sqft_living\", \"sqft_lot\", \"floors\", \"waterfront\", \"view\", \"condition\", \"grade\", \"sqft_above\", \"sqft_basement\", \"yr_built\", \"yr_renovated\", \"zipcode\", \"lat\", \"long\", \"sqft_living15\", \"sqft_lot15\"], \"view\": \"Scatter Plot\"}, \"view_components\": [\"Summary\", \"Table\", \"Bar Chart\", \"BoxWhisker Plot\", \"Line Chart\", \"Scatter Plot\", \"Heat Map\", \"Plots\"], \"type\": \"SFrame\", \"columns\": [{\"dtype\": \"str\", \"name\": \"id\"}, {\"dtype\": \"datetime\", \"name\": \"date\"}, {\"dtype\": \"float\", \"name\": \"price\"}, {\"dtype\": \"float\", \"name\": \"bedrooms\"}, {\"dtype\": \"float\", \"name\": \"bathrooms\"}, {\"dtype\": \"float\", \"name\": \"sqft_living\"}, {\"dtype\": \"int\", \"name\": \"sqft_lot\"}, {\"dtype\": \"str\", \"name\": \"floors\"}, {\"dtype\": \"int\", \"name\": \"waterfront\"}, {\"dtype\": \"int\", \"name\": \"view\"}, {\"dtype\": \"int\", \"name\": \"condition\"}, {\"dtype\": \"int\", \"name\": \"grade\"}, {\"dtype\": \"int\", \"name\": \"sqft_above\"}, {\"dtype\": \"int\", \"name\": \"sqft_basement\"}, {\"dtype\": \"int\", \"name\": \"yr_built\"}, {\"dtype\": \"int\", \"name\": \"yr_renovated\"}, {\"dtype\": \"str\", \"name\": \"zipcode\"}, {\"dtype\": \"float\", \"name\": \"lat\"}, {\"dtype\": \"float\", \"name\": \"long\"}, {\"dtype\": \"float\", \"name\": \"sqft_living15\"}, {\"dtype\": \"float\", \"name\": \"sqft_lot15\"}], \"column_identifiers\": [\"bathrooms\", \"sqft_living15\", \"sqft_above\", \"grade\", \"yr_built\", \"price\", \"bedrooms\", \"zipcode\", \"long\", \"id\", \"sqft_lot15\", \"sqft_living\", \"floors\", \"sqft_lot\", \"date\", \"waterfront\", \"sqft_basement\", \"yr_renovated\", \"lat\", \"condition\", \"view\"]}, \"complete\": 1, \"ipython\": true, \"progress\": 1.0, \"data\": [[4.0, 294000.0], [3.0, 255000.0], [3.0, 313000.0], [3.0, 810000.0], [3.0, 510000.0], [2.0, 334950.0], [4.0, 300000.0], [3.0, 659950.0], [3.0, 429000.0], [3.0, 566000.0], [2.0, 730000.0], [3.0, 318000.0], [2.0, 490000.0], [3.0, 300000.0], [3.0, 539000.0], [3.0, 522500.0], [4.0, 590000.0], [3.0, 845000.0], [4.0, 488250.0], [3.0, 645000.0], [4.0, 625000.0], [4.0, 968000.0], [3.0, 667000.0], [3.0, 1265000.0], [2.0, 210000.0], [4.0, 640000.0], [4.0, 719000.0], [4.0, 1205000.0], [2.0, 311000.0], [4.0, 965000.0], [2.0, 375000.0], [3.0, 275000.0], [3.0, 365000.0], [4.0, 1146800.0], [3.0, 545000.0], [3.0, 440000.0], [2.0, 285950.0], [4.0, 875909.0], [2.0, 405100.0], [3.0, 210490.0], [4.0, 785000.0], [4.0, 530000.0], [4.0, 475000.0], [2.0, 565000.0], [3.0, 500000.0], [4.0, 374950.0], [2.0, 898000.0], [3.0, 590000.0], [3.0, 426000.0], [5.0, 285900.0], [3.0, 300000.0], [4.0, 740000.0], [5.0, 648000.0], [2.0, 412000.0], [4.0, 760000.0], [2.0, 414500.0], [4.0, 852000.0], [2.0, 410000.0], [4.0, 775000.0], [4.0, 599000.0], [3.0, 412000.0], [4.0, 375000.0], [3.0, 482000.0], [3.0, 300000.0], [4.0, 832500.0], [3.0, 739000.0], [4.0, 699188.0], [3.0, 290000.0], [3.0, 529500.0], [4.0, 1408762.0], [2.0, 700000.0], [4.0, 160000.0], [2.0, 399000.0], [3.0, 940000.0], [4.0, 630000.0], [3.0, 550000.0], [2.0, 215000.0], [2.0, 335000.0], [3.0, 317000.0], [4.0, 788000.0], [3.0, 430000.0], [3.0, 496000.0], [3.0, 625000.0], [3.0, 540000.0], [3.0, 324950.0], [4.0, 465000.0], [4.0, 549000.0], [3.0, 292000.0], [2.0, 350000.0], [3.0, 302000.0], [3.0, 284000.0], [3.0, 525000.0], [4.0, 813000.0], [2.0, 325000.0], [2.0, 315000.0], [3.0, 418500.0], [4.0, 305000.0], [3.0, 182500.0], [2.0, 294000.0], [3.0, 429900.0], [3.0, 815000.0], [2.0, 282500.0], [3.0, 215000.0], [3.0, 718000.0], [4.0, 360000.0], [3.0, 229500.0], [2.0, 395000.0], [4.0, 1045000.0], [4.0, 439000.0], [4.0, 776000.0], [2.0, 218000.0], [4.0, 279000.0], [4.0, 540000.0], [3.0, 255500.0], [4.0, 660500.0], [3.0, 420200.0], [3.0, 415000.0], [2.0, 427500.0], [2.0, 290000.0], [3.0, 319900.0], [3.0, 410000.0], [3.0, 203000.0], [4.0, 379900.0], [3.0, 1080000.0], [4.0, 632500.0], [4.0, 433495.0], [3.0, 463800.0], [3.0, 350500.0], [4.0, 613500.0], [3.0, 530000.0], [3.0, 400000.0], [3.0, 269950.0], [4.0, 319000.0], [4.0, 595000.0], [2.0, 359950.0], [3.0, 246500.0], [3.0, 272450.0], [2.0, 235000.0], [5.0, 599000.0], [3.0, 602000.0], [3.0, 210000.0], [2.0, 482000.0], [4.0, 657000.0], [3.0, 320000.0], [2.0, 710000.0], [3.0, 250000.0], [9.0, 1280000.0], [3.0, 800000.0], [4.0, 674000.0], [3.0, 560200.0], [4.0, 580000.0], [2.0, 380000.0], [4.0, 465000.0], [4.0, 589000.0], [3.0, 865000.0], [5.0, 932808.0], [5.0, 2700000.0], [4.0, 556000.0], [3.0, 275000.0], [3.0, 299000.0], [6.0, 300000.0], [3.0, 305000.0], [5.0, 598000.0], [3.0, 400000.0], [3.0, 369950.0], [3.0, 792000.0], [2.0, 438000.0], [3.0, 350000.0], [3.0, 234975.0], [3.0, 261000.0], [3.0, 479000.0], [4.0, 500012.0], [3.0, 740000.0], [4.0, 460458.0], [3.0, 435000.0], [3.0, 400000.0], [4.0, 620000.0], [3.0, 789000.0], [2.0, 442500.0], [3.0, 629000.0], [3.0, 465000.0], [4.0, 645000.0], [3.0, 266490.0], [3.0, 445838.0], [2.0, 334000.0], [3.0, 375000.0], [2.0, 655000.0], [4.0, 991700.0], [3.0, 294950.0], [4.0, 650000.0], [4.0, 277000.0], [4.0, 445500.0], [6.0, 612000.0], [4.0, 699900.0], [3.0, 364000.0], [3.0, 250000.0], [4.0, 980000.0], [4.0, 494000.0], [3.0, 333000.0], [4.0, 633634.0], [3.0, 297262.0], [2.0, 455000.0], [3.0, 269000.0], [3.0, 675000.0], [4.0, 564950.0], [3.0, 450000.0], [2.0, 176000.0], [4.0, 135000.0], [5.0, 411500.0], [2.0, 394950.0], [3.0, 364500.0], [2.0, 459500.0], [4.0, 330000.0], [3.0, 337500.0], [3.0, 207000.0], [3.0, 725000.0], [2.0, 560000.0], [4.0, 700000.0], [4.0, 620000.0], [3.0, 150000.0], [3.0, 420000.0], [3.0, 578000.0], [3.0, 389000.0], [4.0, 570000.0], [5.0, 390000.0], [4.0, 1675000.0], [3.0, 315000.0], [3.0, 282000.0], [3.0, 350000.0], [3.0, 900000.0], [3.0, 1289000.0], [3.0, 520000.0], [3.0, 750000.0], [5.0, 185000.0], [3.0, 427500.0], [4.0, 825000.0], [5.0, 610000.0], [4.0, 1075000.0], [3.0, 990400.0], [3.0, 615000.0], [4.0, 1054690.0], [4.0, 430000.0], [3.0, 330000.0], [3.0, 490000.0], [3.0, 450000.0], [3.0, 637000.0], [3.0, 204000.0], [4.0, 628000.0], [3.0, 290000.0], [3.0, 607500.0], [3.0, 290000.0], [5.0, 2238888.0], [5.0, 750000.0], [3.0, 431000.0], [4.0, 695000.0], [4.0, 610750.0], [4.0, 494500.0], [4.0, 710000.0], [1.0, 175000.0], [5.0, 1169000.0], [3.0, 860000.0], [3.0, 294000.0], [4.0, 405000.0], [4.0, 283200.0], [4.0, 401500.0], [2.0, 365000.0], [5.0, 368000.0], [4.0, 610000.0], [3.0, 765000.0], [4.0, 220000.0], [3.0, 270000.0], [3.0, 312000.0], [5.0, 285000.0], [4.0, 950000.0], [3.0, 355000.0], [5.0, 616950.0], [4.0, 620000.0], [4.0, 410000.0], [4.0, 684000.0], [3.0, 579000.0], [2.0, 450000.0], [3.0, 746300.0], [4.0, 340000.0], [3.0, 485000.0], [3.0, 1600000.0], [3.0, 252000.0], [4.0, 760000.0], [2.0, 506000.0], [3.0, 345000.0], [3.0, 333000.0], [3.0, 463000.0], [3.0, 240000.0], [4.0, 705000.0], [4.0, 545000.0], [4.0, 652427.0], [3.0, 460000.0], [2.0, 445000.0], [3.0, 515700.0], [2.0, 250000.0], [3.0, 380500.0], [4.0, 515000.0], [3.0, 299000.0], [3.0, 384400.0], [3.0, 366000.0], [3.0, 591975.0], [5.0, 515000.0], [3.0, 529500.0], [3.0, 212000.0], [2.0, 338000.0], [2.0, 265000.0], [3.0, 369950.0], [4.0, 585000.0], [3.0, 1338750.0], [4.0, 331500.0], [2.0, 332000.0], [3.0, 455000.0], [3.0, 315000.0], [4.0, 430000.0], [3.0, 370000.0], [3.0, 465000.0], [3.0, 643000.0], [3.0, 855000.0], [3.0, 450000.0], [4.0, 829900.0], [3.0, 401000.0], [2.0, 415000.0], [3.0, 382495.0], [3.0, 515000.0], [3.0, 632925.0], [4.0, 625000.0], [3.0, 217000.0], [3.0, 355000.0], [4.0, 700000.0], [4.0, 1348000.0], [3.0, 296000.0], [3.0, 390000.0], [2.0, 262000.0], [3.0, 232500.0], [3.0, 245000.0], [4.0, 684000.0], [6.0, 480000.0], [4.0, 805000.0], [4.0, 2250000.0], [2.0, 672324.0], [4.0, 500000.0], [3.0, 588000.0], [2.0, 400000.0], [3.0, 505000.0], [2.0, 315000.0], [3.0, 350000.0], [4.0, 2075000.0], [5.0, 1670000.0], [3.0, 600000.0], [4.0, 422000.0], [4.0, 560000.0], [2.0, 349950.0], [4.0, 311850.0], [2.0, 384500.0], [4.0, 850000.0], [4.0, 313999.0], [3.0, 242000.0], [2.0, 473000.0], [4.0, 405000.0], [5.0, 455000.0], [4.0, 563500.0], [3.0, 2367000.0], [3.0, 230000.0], [4.0, 1095000.0], [3.0, 300000.0], [3.0, 450000.0], [3.0, 450000.0], [4.0, 625000.0], [3.0, 215000.0], [4.0, 530000.0], [2.0, 970000.0], [4.0, 286000.0], [4.0, 777000.0], [3.0, 460000.0], [3.0, 242000.0], [4.0, 277500.0], [3.0, 369950.0], [3.0, 497000.0], [5.0, 480000.0], [3.0, 430000.0], [5.0, 287000.0], [4.0, 1370000.0], [3.0, 665000.0], [4.0, 1311000.0], [3.0, 209500.0], [5.0, 347950.0], [4.0, 325000.0], [3.0, 425000.0], [4.0, 534000.0], [3.0, 230000.0], [3.0, 875000.0], [3.0, 738000.0], [4.0, 285000.0], [4.0, 1300000.0], [4.0, 270000.0], [2.0, 185000.0], [3.0, 645000.0], [3.0, 135000.0], [5.0, 1555000.0], [3.0, 222000.0], [3.0, 370000.0], [3.0, 280000.0], [3.0, 550000.0], [2.0, 350000.0], [1.0, 575000.0], [3.0, 680000.0], [4.0, 620000.0], [4.0, 312900.0], [4.0, 593450.0], [2.0, 410000.0], [4.0, 585000.0], [4.0, 600000.0], [4.0, 650000.0], [4.0, 675000.0], [3.0, 605000.0], [1.0, 385195.0], [4.0, 598850.0], [3.0, 850000.0], [4.0, 650000.0], [3.0, 738000.0], [5.0, 354000.0], [3.0, 335000.0], [5.0, 635000.0], [1.0, 350000.0], [2.0, 209950.0], [3.0, 530000.0], [3.0, 185000.0], [2.0, 649000.0], [3.0, 199990.0], [4.0, 350000.0], [4.0, 442500.0], [3.0, 616950.0], [3.0, 550000.0], [3.0, 489000.0], [4.0, 810000.0], [3.0, 175000.0], [3.0, 532500.0], [2.0, 330000.0], [3.0, 335000.0], [4.0, 516000.0], [3.0, 546940.0], [3.0, 560000.0], [3.0, 1100000.0], [2.0, 400000.0], [4.0, 416500.0], [3.0, 1250000.0], [5.0, 1680000.0], [4.0, 351000.0], [2.0, 437500.0], [3.0, 545500.0], [3.0, 250000.0], [2.0, 135000.0], [4.0, 249500.0], [0.0, 235000.0], [3.0, 264000.0], [3.0, 635000.0], [5.0, 485000.0], [3.0, 330000.0], [4.0, 207200.0], [4.0, 1050000.0], [3.0, 625000.0], [4.0, 785000.0], [4.0, 460000.0], [4.0, 702000.0], [3.0, 365000.0], [5.0, 1925000.0], [4.0, 500000.0], [2.0, 163000.0], [4.0, 1495000.0], [3.0, 444950.0], [4.0, 990000.0], [4.0, 650000.0], [3.0, 380000.0], [3.0, 415950.0], [3.0, 530000.0], [3.0, 1050000.0], [3.0, 347000.0], [2.0, 573300.0], [4.0, 292500.0], [5.0, 1250000.0], [2.0, 360000.0], [6.0, 583000.0], [3.0, 465000.0], [3.0, 303500.0], [3.0, 640000.0], [3.0, 255544.0], [4.0, 355000.0], [3.0, 645000.0], [5.0, 225000.0], [5.0, 648000.0], [4.0, 940000.0], [3.0, 589500.0], [4.0, 470000.0], [3.0, 481000.0], [3.0, 261000.0], [4.0, 287500.0], [4.0, 228950.0], [2.0, 409000.0], [4.0, 242000.0], [4.0, 495000.0], [4.0, 470000.0], [1.0, 550000.0], [2.0, 378000.0], [5.0, 690500.0], [3.0, 439000.0], [6.0, 1000000.0], [5.0, 3567000.0], [4.0, 480000.0], [3.0, 380000.0], [3.0, 410000.0], [3.0, 250000.0], [2.0, 378000.0], [3.0, 379000.0], [2.0, 1452000.0], [3.0, 196000.0], [3.0, 275000.0], [3.0, 495000.0], [4.0, 748000.0], [4.0, 623000.0], [4.0, 610000.0], [4.0, 1225000.0], [3.0, 331000.0], [3.0, 289000.0], [3.0, 1225000.0], [3.0, 290000.0], [4.0, 979700.0], [5.0, 955990.0], [4.0, 1227500.0], [3.0, 336500.0], [3.0, 517500.0], [3.0, 880000.0], [3.0, 320000.0], [2.0, 529000.0], [4.0, 450000.0], [3.0, 350000.0], [3.0, 480000.0], [3.0, 592000.0], [2.0, 230000.0], [4.0, 428900.0], [4.0, 312000.0], [3.0, 1705000.0], [3.0, 242000.0], [3.0, 478000.0], [4.0, 315000.0], [3.0, 311600.0], [2.0, 346500.0], [4.0, 725000.0], [3.0, 445000.0], [4.0, 899000.0], [2.0, 600000.0], [5.0, 720000.0], [3.0, 940000.0], [3.0, 450000.0], [2.0, 707000.0], [2.0, 510000.0], [3.0, 275000.0], [4.0, 364900.0], [2.0, 410000.0], [5.0, 966000.0], [3.0, 415000.0], [3.0, 247500.0], [3.0, 360000.0], [3.0, 440000.0], [4.0, 290000.0], [3.0, 480000.0], [3.0, 190500.0], [4.0, 430000.0], [3.0, 418000.0], [4.0, 1200000.0], [3.0, 636000.0], [5.0, 350000.0], [3.0, 572500.0], [4.0, 600000.0], [4.0, 540000.0], [3.0, 565000.0], [3.0, 750000.0], [3.0, 539500.0], [3.0, 285000.0], [4.0, 1010000.0], [6.0, 610000.0], [4.0, 620000.0], [3.0, 395000.0], [5.0, 2900000.0], [4.0, 1980000.0], [4.0, 592500.0], [4.0, 782900.0], [3.0, 693000.0], [4.0, 733000.0], [3.0, 225000.0], [2.0, 299800.0], [3.0, 516000.0], [3.0, 335000.0], [3.0, 313200.0], [4.0, 425000.0], [4.0, 389000.0], [2.0, 348500.0], [4.0, 1890000.0], [5.0, 949950.0], [3.0, 560000.0], [4.0, 459000.0], [4.0, 479000.0], [3.0, 457500.0], [3.0, 156000.0], [2.0, 503000.0], [5.0, 800000.0], [3.0, 205000.0], [4.0, 745000.0], [4.0, 549000.0], [4.0, 463000.0], [2.0, 416000.0], [5.0, 3345000.0], [3.0, 237000.0], [4.0, 390000.0], [3.0, 555000.0], [3.0, 501000.0], [2.0, 500000.0], [3.0, 381000.0], [3.0, 110000.0], [4.0, 945000.0], [5.0, 405000.0], [2.0, 210000.0], [2.0, 525000.0], [4.0, 292500.0], [4.0, 305000.0], [5.0, 178000.0], [3.0, 270000.0], [5.0, 455000.0], [3.0, 260000.0], [3.0, 360000.0], [2.0, 181000.0], [2.0, 682000.0], [3.0, 583000.0], [3.0, 270000.0], [2.0, 285950.0], [2.0, 419000.0], [3.0, 320000.0], [4.0, 332500.0], [5.0, 725000.0], [3.0, 675000.0], [3.0, 851500.0], [1.0, 280000.0], [5.0, 1679000.0], [3.0, 255000.0], [2.0, 259950.0], [3.0, 269950.0], [5.0, 1306000.0], [4.0, 697000.0], [3.0, 504500.0], [3.0, 1014250.0], [3.0, 430000.0], [3.0, 441500.0], [3.0, 670000.0], [3.0, 490000.0], [3.0, 662500.0], [3.0, 329950.0], [3.0, 423000.0], [3.0, 494000.0], [3.0, 1110000.0], [3.0, 490000.0], [3.0, 89000.0], [5.0, 459000.0], [3.0, 268000.0], [4.0, 364000.0], [4.0, 820000.0], [4.0, 310000.0], [3.0, 190000.0], [3.0, 462600.0], [3.0, 540000.0], [3.0, 279000.0], [4.0, 915000.0], [4.0, 415000.0], [3.0, 475000.0], [4.0, 508000.0], [4.0, 240000.0], [3.0, 275000.0], [3.0, 247500.0], [4.0, 625000.0], [4.0, 289659.0], [4.0, 275436.0], [4.0, 455000.0], [4.0, 556000.0], [4.0, 899000.0], [3.0, 375000.0], [4.0, 1535000.0], [3.0, 383000.0], [3.0, 395000.0], [4.0, 1209000.0], [5.0, 550000.0], [3.0, 399950.0], [3.0, 255000.0], [3.0, 712000.0], [3.0, 424000.0], [2.0, 390000.0], [4.0, 255000.0], [3.0, 580000.0], [4.0, 375000.0], [3.0, 510000.0], [3.0, 560000.0], [3.0, 210500.0], [2.0, 302860.0], [4.0, 969000.0], [4.0, 465000.0], [3.0, 610950.0], [4.0, 171000.0], [2.0, 435000.0], [4.0, 627250.0], [3.0, 676500.0], [3.0, 265000.0], [3.0, 384000.0], [3.0, 1150000.0], [3.0, 1925000.0], [4.0, 1054712.0], [3.0, 545000.0], [5.0, 1595000.0], [3.0, 315000.0], [2.0, 510000.0], [3.0, 234000.0], [4.0, 290000.0], [3.0, 421000.0], [4.0, 965000.0], [2.0, 536500.0], [3.0, 340000.0], [4.0, 545000.0], [3.0, 988000.0], [4.0, 380000.0], [3.0, 280000.0], [3.0, 640000.0], [3.0, 419995.0], [3.0, 712000.0], [6.0, 1125000.0], [3.0, 1225000.0], [3.0, 399950.0], [3.0, 579000.0], [4.0, 813500.0], [3.0, 217500.0], [3.0, 552100.0], [4.0, 226000.0], [4.0, 1242000.0], [4.0, 315000.0], [2.0, 140000.0], [4.0, 565000.0], [4.0, 925000.0], [3.0, 215000.0], [4.0, 860000.0], [4.0, 427500.0], [4.0, 875000.0], [3.0, 1321500.0], [4.0, 247000.0], [3.0, 925000.0], [5.0, 435000.0], [3.0, 282000.0], [4.0, 257700.0], [4.0, 160000.0], [2.0, 450000.0], [3.0, 950000.0], [3.0, 289900.0], [4.0, 895990.0], [2.0, 187300.0], [4.0, 359000.0], [4.0, 650000.0], [3.0, 577000.0], [4.0, 675000.0], [4.0, 630000.0], [3.0, 335000.0], [3.0, 2230000.0], [3.0, 150000.0], [4.0, 715000.0], [3.0, 720000.0], [3.0, 315000.0], [3.0, 400000.0], [3.0, 395000.0], [5.0, 540000.0], [3.0, 525000.0], [3.0, 482975.0], [4.0, 685000.0], [3.0, 370000.0], [4.0, 742500.0], [3.0, 435000.0], [4.0, 592100.0], [4.0, 477000.0], [3.0, 280000.0], [3.0, 335000.0], [2.0, 575000.0], [3.0, 238000.0], [3.0, 392500.0], [4.0, 1050000.0], [3.0, 370000.0], [3.0, 350000.0], [3.0, 445000.0], [3.0, 352500.0], [4.0, 469000.0], [3.0, 225000.0], [4.0, 785000.0], [4.0, 1760000.0], [5.0, 632500.0], [3.0, 215000.0], [4.0, 455950.0], [3.0, 335000.0], [3.0, 525000.0], [2.0, 650100.0], [3.0, 379000.0], [4.0, 750000.0], [3.0, 599000.0], [3.0, 330000.0], [2.0, 459000.0], [2.0, 447500.0], [4.0, 372000.0], [3.0, 1030000.0], [3.0, 585000.0], [3.0, 299900.0], [3.0, 490000.0], [3.0, 608000.0], [4.0, 335000.0], [3.0, 349500.0], [3.0, 500000.0], [3.0, 470000.0], [3.0, 718000.0], [5.0, 575000.0], [3.0, 335000.0], [4.0, 2450000.0], [2.0, 219000.0], [2.0, 418000.0], [2.0, 419000.0], [4.0, 895000.0], [3.0, 225000.0], [3.0, 712500.0], [5.0, 375000.0], [3.0, 434500.0], [3.0, 400000.0], [3.0, 357823.0], [3.0, 500000.0], [5.0, 915000.0], [3.0, 425000.0], [5.0, 1488000.0], [3.0, 343500.0], [3.0, 490000.0], [3.0, 299500.0], [4.0, 294450.0], [4.0, 650000.0], [4.0, 925000.0], [3.0, 649950.0], [3.0, 278000.0], [4.0, 395000.0], [2.0, 455000.0], [4.0, 298000.0], [3.0, 449900.0], [3.0, 350000.0], [3.0, 375000.0], [3.0, 323000.0], [4.0, 560000.0], [3.0, 986000.0], [5.0, 518000.0], [5.0, 310000.0], [4.0, 740000.0], [4.0, 650000.0], [4.0, 705000.0], [3.0, 561000.0], [4.0, 545000.0], [4.0, 790000.0], [4.0, 672500.0], [3.0, 261000.0], [3.0, 649950.0], [3.0, 887200.0], [3.0, 285000.0], [4.0, 540000.0], [4.0, 385000.0], [4.0, 629000.0], [1.0, 275000.0], [4.0, 453500.0], [5.0, 598200.0], [3.0, 599000.0], [5.0, 1110000.0], [3.0, 547500.0], [5.0, 631000.0], [3.0, 219950.0], [4.0, 485000.0], [3.0, 522500.0], [4.0, 350000.0], [3.0, 123300.0], [5.0, 770000.0], [3.0, 525000.0], [3.0, 199000.0], [3.0, 246000.0], [3.0, 649950.0], [6.0, 705000.0], [3.0, 247000.0], [4.0, 525000.0], [3.0, 275000.0], [5.0, 2535000.0], [2.0, 403000.0], [3.0, 210000.0], [4.0, 390000.0], [4.0, 852600.0], [4.0, 353000.0], [4.0, 365000.0], [3.0, 267500.0], [4.0, 507000.0], [5.0, 415000.0], [7.0, 420000.0], [3.0, 267300.0], [3.0, 249950.0], [4.0, 500000.0], [2.0, 455000.0], [2.0, 595000.0], [3.0, 229999.0], [3.0, 390000.0], [4.0, 473600.0], [3.0, 350000.0], [4.0, 498000.0], [3.0, 432000.0], [4.0, 1315000.0], [5.0, 788000.0], [3.0, 299950.0], [4.0, 850000.0], [4.0, 750000.0], [3.0, 195000.0], [3.0, 538000.0], [3.0, 255000.0], [4.0, 772500.0], [3.0, 249000.0], [3.0, 624000.0], [3.0, 740000.0], [4.0, 700000.0], [3.0, 372977.0], [3.0, 165000.0], [4.0, 307550.0], [4.0, 735000.0], [4.0, 657000.0], [2.0, 406500.0], [4.0, 615000.0], [3.0, 315000.0], [2.0, 95000.0], [3.0, 307635.0], [3.0, 535000.0], [4.0, 835000.0], [4.0, 249000.0], [4.0, 400950.0], [3.0, 475000.0], [2.0, 224000.0], [3.0, 466200.0], [4.0, 1590000.0], [3.0, 340000.0], [4.0, 860000.0], [3.0, 374000.0], [4.0, 431000.0], [2.0, 199988.0], [3.0, 195700.0], [3.0, 850000.0], [3.0, 340000.0], [4.0, 2575000.0], [4.0, 1700000.0], [4.0, 600000.0], [3.0, 572000.0], [2.0, 439900.0], [4.0, 354450.0], [4.0, 350000.0], [4.0, 466000.0], [5.0, 287500.0], [5.0, 765000.0], [3.0, 211000.0], [4.0, 330000.0], [4.0, 752000.0], [2.0, 520000.0], [3.0, 706000.0], [0.0, 355000.0], [4.0, 813000.0], [5.0, 880000.0], [3.0, 280000.0], [4.0, 725000.0], [4.0, 1450000.0], [3.0, 624800.0], [3.0, 441000.0], [4.0, 1237500.0], [4.0, 890900.0], [2.0, 353000.0], [4.0, 535000.0], [4.0, 264950.0], [3.0, 325000.0], [5.0, 502500.0], [4.0, 574000.0], [4.0, 599000.0], [3.0, 775000.0], [3.0, 497000.0], [3.0, 345000.0], [4.0, 464000.0], [3.0, 204900.0], [4.0, 829000.0], [2.0, 170500.0], [4.0, 614000.0], [3.0, 272000.0], [4.0, 1225000.0], [3.0, 635000.0], [4.0, 950000.0], [3.0, 643500.0], [4.0, 550000.0], [2.0, 690000.0]], \"columns\": [{\"dtype\": \"str\", \"name\": \"id\"}, {\"dtype\": \"datetime\", \"name\": \"date\"}, {\"dtype\": \"float\", \"name\": \"price\"}, {\"dtype\": \"float\", \"name\": \"bedrooms\"}, {\"dtype\": \"float\", \"name\": \"bathrooms\"}, {\"dtype\": \"float\", \"name\": \"sqft_living\"}, {\"dtype\": \"int\", \"name\": \"sqft_lot\"}, {\"dtype\": \"str\", \"name\": \"floors\"}, {\"dtype\": \"int\", \"name\": \"waterfront\"}, {\"dtype\": \"int\", \"name\": \"view\"}, {\"dtype\": \"int\", \"name\": \"condition\"}, {\"dtype\": \"int\", \"name\": \"grade\"}, {\"dtype\": \"int\", \"name\": \"sqft_above\"}, {\"dtype\": \"int\", \"name\": \"sqft_basement\"}, {\"dtype\": \"int\", \"name\": \"yr_built\"}, {\"dtype\": \"int\", \"name\": \"yr_renovated\"}, {\"dtype\": \"str\", \"name\": \"zipcode\"}, {\"dtype\": \"float\", \"name\": \"lat\"}, {\"dtype\": \"float\", \"name\": \"long\"}, {\"dtype\": \"float\", \"name\": \"sqft_living15\"}, {\"dtype\": \"float\", \"name\": \"sqft_lot15\"}]}, e);\n",
       "                });\n",
       "            })();\n",
       "        "
      ]
     },
     "metadata": {},
     "output_type": "display_data"
    }
   ],
   "source": [
    "train_data.show(view='Scatter Plot', x = 'bedrooms', y = 'price')"
   ]
  },
  {
   "cell_type": "code",
   "execution_count": 44,
   "metadata": {
    "collapsed": false,
    "hideCode": false,
    "hideOutput": true,
    "hidePrompt": false
   },
   "outputs": [
    {
     "data": {
      "application/javascript": [
       "$(\"head\").append($(\"<link/>\").attr({\n",
       "  rel:  \"stylesheet\",\n",
       "  type: \"text/css\",\n",
       "  href: \"//cdnjs.cloudflare.com/ajax/libs/font-awesome/4.1.0/css/font-awesome.min.css\"\n",
       "}));\n",
       "$(\"head\").append($(\"<link/>\").attr({\n",
       "  rel:  \"stylesheet\",\n",
       "  type: \"text/css\",\n",
       "  href: \"https://static.turi.com/products/graphlab-create/2.1/canvas/css/canvas.css\"\n",
       "}));\n",
       "\n",
       "            (function(){\n",
       "\n",
       "                var e = null;\n",
       "                if (typeof element == 'undefined') {\n",
       "                    var scripts = document.getElementsByTagName('script');\n",
       "                    var thisScriptTag = scripts[scripts.length-1];\n",
       "                    var parentDiv = thisScriptTag.parentNode;\n",
       "                    e = document.createElement('div');\n",
       "                    parentDiv.appendChild(e);\n",
       "                } else {\n",
       "                    e = element[0];\n",
       "                }\n",
       "\n",
       "                if (typeof requirejs !== 'undefined') {\n",
       "                    // disable load timeout; ipython_app.js is large and can take a while to load.\n",
       "                    requirejs.config({waitSeconds: 0});\n",
       "                }\n",
       "\n",
       "                require(['https://static.turi.com/products/graphlab-create/2.1/canvas/js/ipython_app.js'], function(IPythonApp){\n",
       "                    var app = new IPythonApp();\n",
       "                    app.attachView('sframe','Plots', {\"selected_variable\": {\"name\": [\"train_data\"], \"descriptives\": {\"rows\": 17384, \"columns\": 21}, \"view_component\": \"Plots\", \"view_file\": \"sframe\", \"view_params\": {\"y\": \"sqft_living\", \"x\": \"bedrooms\", \"columns\": [\"id\", \"date\", \"price\", \"bedrooms\", \"bathrooms\", \"sqft_living\", \"sqft_lot\", \"floors\", \"waterfront\", \"view\", \"condition\", \"grade\", \"sqft_above\", \"sqft_basement\", \"yr_built\", \"yr_renovated\", \"zipcode\", \"lat\", \"long\", \"sqft_living15\", \"sqft_lot15\"], \"view\": \"Scatter Plot\"}, \"view_components\": [\"Summary\", \"Table\", \"Bar Chart\", \"BoxWhisker Plot\", \"Line Chart\", \"Scatter Plot\", \"Heat Map\", \"Plots\"], \"type\": \"SFrame\", \"columns\": [{\"dtype\": \"str\", \"name\": \"id\"}, {\"dtype\": \"datetime\", \"name\": \"date\"}, {\"dtype\": \"float\", \"name\": \"price\"}, {\"dtype\": \"float\", \"name\": \"bedrooms\"}, {\"dtype\": \"float\", \"name\": \"bathrooms\"}, {\"dtype\": \"float\", \"name\": \"sqft_living\"}, {\"dtype\": \"int\", \"name\": \"sqft_lot\"}, {\"dtype\": \"str\", \"name\": \"floors\"}, {\"dtype\": \"int\", \"name\": \"waterfront\"}, {\"dtype\": \"int\", \"name\": \"view\"}, {\"dtype\": \"int\", \"name\": \"condition\"}, {\"dtype\": \"int\", \"name\": \"grade\"}, {\"dtype\": \"int\", \"name\": \"sqft_above\"}, {\"dtype\": \"int\", \"name\": \"sqft_basement\"}, {\"dtype\": \"int\", \"name\": \"yr_built\"}, {\"dtype\": \"int\", \"name\": \"yr_renovated\"}, {\"dtype\": \"str\", \"name\": \"zipcode\"}, {\"dtype\": \"float\", \"name\": \"lat\"}, {\"dtype\": \"float\", \"name\": \"long\"}, {\"dtype\": \"float\", \"name\": \"sqft_living15\"}, {\"dtype\": \"float\", \"name\": \"sqft_lot15\"}], \"column_identifiers\": [\"bathrooms\", \"sqft_living15\", \"sqft_above\", \"grade\", \"yr_built\", \"price\", \"bedrooms\", \"zipcode\", \"long\", \"id\", \"sqft_lot15\", \"sqft_living\", \"floors\", \"sqft_lot\", \"date\", \"waterfront\", \"sqft_basement\", \"yr_renovated\", \"lat\", \"condition\", \"view\"]}, \"complete\": 1, \"ipython\": true, \"progress\": 1.0, \"data\": [[2.0, 1240.0], [3.0, 2570.0], [4.0, 1790.0], [3.0, 2200.0], [3.0, 1650.0], [3.0, 1750.0], [3.0, 1830.0], [3.0, 1890.0], [2.0, 970.0], [3.0, 2510.0], [4.0, 6930.0], [3.0, 1020.0], [5.0, 2940.0], [2.0, 670.0], [3.0, 1120.0], [4.0, 2090.0], [3.0, 2260.0], [3.0, 1610.0], [2.0, 2070.0], [4.0, 3090.0], [4.0, 3230.0], [2.0, 1230.0], [3.0, 2530.0], [2.0, 1060.0], [5.0, 5270.0], [3.0, 1480.0], [4.0, 3860.0], [4.0, 1820.0], [3.0, 1690.0], [5.0, 2500.0], [4.0, 2240.0], [4.0, 1983.0], [3.0, 1140.0], [4.0, 2360.0], [3.0, 2300.0], [3.0, 1260.0], [2.0, 1140.0], [4.0, 2780.0], [4.0, 3820.0], [3.0, 1570.0], [4.0, 3470.0], [3.0, 2530.0], [3.0, 3560.0], [4.0, 1260.0], [2.0, 1650.0], [4.0, 2390.0], [4.0, 2810.0], [4.0, 5050.0], [5.0, 2380.0], [4.0, 1700.0], [3.0, 1450.0], [3.0, 2160.0], [4.0, 5461.0], [3.0, 2520.0], [3.0, 1940.0], [3.0, 1400.0], [3.0, 2070.0], [3.0, 1640.0], [4.0, 2267.0], [3.0, 1000.0], [2.0, 1390.0], [3.0, 3950.0], [2.0, 1440.0], [3.0, 1560.0], [3.0, 1830.0], [3.0, 2550.0], [3.0, 1660.0], [3.0, 1460.0], [4.0, 1830.0], [3.0, 1400.0], [3.0, 780.0], [3.0, 2070.0], [5.0, 2140.0], [4.0, 2780.0], [3.0, 2680.0], [4.0, 3430.0], [5.0, 1840.0], [3.0, 1990.0], [3.0, 1540.0], [3.0, 1200.0], [3.0, 1920.0], [3.0, 1410.0], [3.0, 1470.0], [4.0, 2360.0], [3.0, 2480.0], [3.0, 1710.0], [3.0, 1480.0], [2.0, 1090.0], [5.0, 3200.0], [4.0, 5810.0], [3.0, 1210.0], [3.0, 1950.0], [3.0, 1730.0], [6.0, 2890.0], [3.0, 1800.0], [5.0, 3200.0], [3.0, 2040.0], [3.0, 1740.0], [3.0, 1040.0], [3.0, 2760.0], [3.0, 2340.0], [3.0, 1120.0], [4.0, 1700.0], [3.0, 1680.0], [2.0, 1430.0], [3.0, 1290.0], [4.0, 2100.0], [4.0, 2990.0], [4.0, 2040.0], [5.0, 3760.0], [2.0, 1170.0], [3.0, 1590.0], [2.0, 900.0], [4.0, 1440.0], [4.0, 2790.0], [3.0, 1680.0], [3.0, 2010.0], [4.0, 1910.0], [3.0, 1770.0], [4.0, 4690.0], [4.0, 2590.0], [3.0, 1060.0], [4.0, 1530.0], [3.0, 2220.0], [2.0, 900.0], [3.0, 1440.0], [3.0, 1380.0], [3.0, 860.0], [2.0, 1150.0], [3.0, 2660.0], [3.0, 1810.0], [3.0, 1690.0], [3.0, 1630.0], [3.0, 1390.0], [3.0, 1310.0], [3.0, 1470.0], [4.0, 3010.0], [5.0, 3290.0], [4.0, 2460.0], [3.0, 2092.0], [3.0, 2150.0], [3.0, 1770.0], [4.0, 7420.0], [4.0, 3250.0], [3.0, 1580.0], [3.0, 1670.0], [3.0, 1340.0], [4.0, 3020.0], [3.0, 1030.0], [2.0, 1030.0], [3.0, 1830.0], [3.0, 2230.0], [4.0, 2380.0], [1.0, 730.0], [2.0, 700.0], [2.0, 960.0], [4.0, 1180.0], [4.0, 1490.0], [3.0, 2210.0], [4.0, 3440.0], [3.0, 2120.0], [3.0, 1910.0], [2.0, 1170.0], [5.0, 3310.0], [2.0, 1200.0], [3.0, 1050.0], [2.0, 930.0], [4.0, 3540.0], [4.0, 4475.0], [3.0, 1440.0], [3.0, 1370.0], [3.0, 1000.0], [4.0, 3020.0], [4.0, 2480.0], [4.0, 3090.0], [3.0, 1240.0], [3.0, 1650.0], [5.0, 4270.0], [4.0, 1330.0], [3.0, 3020.0], [3.0, 1420.0], [4.0, 2950.0], [5.0, 3940.0], [4.0, 1960.0], [4.0, 1540.0], [3.0, 1690.0], [3.0, 3200.0], [2.0, 1950.0], [3.0, 2130.0], [3.0, 1090.0], [4.0, 2230.0], [4.0, 2840.0], [3.0, 1420.0], [3.0, 1570.0], [4.0, 1700.0], [4.0, 3370.0], [4.0, 1490.0], [5.0, 1940.0], [4.0, 3180.0], [4.0, 3410.0], [3.0, 1580.0], [3.0, 2150.0], [4.0, 2560.0], [3.0, 1550.0], [3.0, 2590.0], [4.0, 3490.0], [3.0, 1670.0], [4.0, 3740.0], [3.0, 2340.0], [3.0, 1630.0], [4.0, 1980.0], [5.0, 4470.0], [5.0, 2110.0], [4.0, 3250.0], [4.0, 4130.0], [3.0, 1630.0], [4.0, 2360.0], [3.0, 1590.0], [3.0, 1720.0], [3.0, 2650.0], [3.0, 1930.0], [3.0, 1990.0], [4.0, 2110.0], [4.0, 1750.0], [3.0, 1120.0], [3.0, 2070.0], [5.0, 2590.0], [3.0, 2550.0], [3.0, 2400.0], [3.0, 2120.0], [3.0, 1460.0], [1.0, 780.0], [3.0, 1690.0], [4.0, 3160.0], [4.0, 3820.0], [4.0, 2740.0], [4.0, 2090.0], [5.0, 3640.0], [4.0, 1860.0], [3.0, 1780.0], [3.0, 1710.0], [4.0, 1910.0], [3.0, 1800.0], [4.0, 2330.0], [3.0, 2930.0], [3.0, 2030.0], [4.0, 3150.0], [4.0, 1760.0], [4.0, 3280.0], [5.0, 2760.0], [4.0, 1560.0], [4.0, 3480.0], [2.0, 830.0], [5.0, 3080.0], [3.0, 1220.0], [3.0, 1060.0], [2.0, 1250.0], [3.0, 1210.0], [3.0, 1080.0], [3.0, 1720.0], [2.0, 1050.0], [4.0, 3930.0], [5.0, 3180.0], [4.0, 2480.0], [3.0, 1680.0], [4.0, 2860.0], [2.0, 860.0], [4.0, 3650.0], [3.0, 1400.0], [4.0, 2140.0], [4.0, 3020.0], [3.0, 2490.0], [4.0, 2610.0], [3.0, 1810.0], [3.0, 1400.0], [3.0, 2670.0], [3.0, 1840.0], [3.0, 1550.0], [3.0, 1200.0], [3.0, 2780.0], [4.0, 1640.0], [3.0, 2120.0], [3.0, 2230.0], [3.0, 1400.0], [3.0, 2590.0], [4.0, 2090.0], [4.0, 1940.0], [3.0, 1650.0], [2.0, 520.0], [3.0, 940.0], [4.0, 2650.0], [3.0, 2190.0], [3.0, 3330.0], [4.0, 2380.0], [5.0, 3070.0], [3.0, 3370.0], [3.0, 1820.0], [4.0, 2090.0], [4.0, 1770.0], [3.0, 1830.0], [5.0, 5305.0], [2.0, 1200.0], [3.0, 1700.0], [3.0, 1590.0], [3.0, 1680.0], [3.0, 880.0], [3.0, 3390.0], [2.0, 1100.0], [6.0, 2530.0], [5.0, 4800.0], [5.0, 2970.0], [3.0, 1660.0], [4.0, 4460.0], [2.0, 1340.0], [3.0, 2540.0], [6.0, 2780.0], [3.0, 1480.0], [4.0, 3420.0], [2.0, 820.0], [3.0, 1410.0], [3.0, 1330.0], [3.0, 2120.0], [4.0, 3170.0], [3.0, 1570.0], [4.0, 3520.0], [4.0, 2630.0], [3.0, 1820.0], [3.0, 1580.0], [4.0, 2290.0], [3.0, 1540.0], [3.0, 1760.0], [3.0, 1860.0], [2.0, 1340.0], [4.0, 2760.0], [3.0, 2430.0], [3.0, 1590.0], [2.0, 940.0], [4.0, 1770.0], [4.0, 2450.0], [5.0, 3750.0], [4.0, 2330.0], [4.0, 2120.0], [4.0, 1930.0], [5.0, 2780.0], [3.0, 1110.0], [2.0, 1330.0], [3.0, 1750.0], [4.0, 2410.0], [3.0, 1920.0], [3.0, 1160.0], [3.0, 1640.0], [3.0, 1950.0], [3.0, 1300.0], [3.0, 1670.0], [4.0, 2890.0], [2.0, 1510.0], [2.0, 1120.0], [3.0, 1500.0], [3.0, 1300.0], [4.0, 1950.0], [3.0, 3680.0], [2.0, 1480.0], [3.0, 1490.0], [3.0, 1970.0], [3.0, 1740.0], [4.0, 2260.0], [3.0, 1090.0], [3.0, 1390.0], [2.0, 720.0], [3.0, 1030.0], [4.0, 4040.0], [3.0, 970.0], [2.0, 1480.0], [3.0, 1570.0], [4.0, 2280.0], [2.0, 1050.0], [3.0, 1650.0], [3.0, 960.0], [4.0, 1690.0], [3.0, 2290.0], [3.0, 1250.0], [4.0, 1920.0], [3.0, 2440.0], [4.0, 3740.0], [5.0, 1690.0], [3.0, 1400.0], [3.0, 1780.0], [4.0, 1600.0], [3.0, 1470.0], [2.0, 1210.0], [4.0, 2900.0], [2.0, 1175.0], [3.0, 1450.0], [2.0, 800.0], [3.0, 2180.0], [4.0, 2270.0], [3.0, 1460.0], [3.0, 1280.0], [2.0, 1230.0], [5.0, 3710.0], [4.0, 2110.0], [4.0, 1940.0], [4.0, 2420.0], [4.0, 2320.0], [2.0, 1660.0], [4.0, 1680.0], [4.0, 1780.0], [1.0, 740.0], [3.0, 3100.0], [3.0, 900.0], [4.0, 3180.0], [3.0, 1710.0], [5.0, 2530.0], [3.0, 1760.0], [3.0, 1580.0], [3.0, 1600.0], [4.0, 1790.0], [6.0, 3880.0], [2.0, 2470.0], [2.0, 1050.0], [3.0, 1670.0], [4.0, 3370.0], [3.0, 960.0], [4.0, 2230.0], [3.0, 2380.0], [3.0, 1180.0], [3.0, 1350.0], [3.0, 1440.0], [2.0, 700.0], [3.0, 2750.0], [2.0, 600.0], [3.0, 910.0], [3.0, 1430.0], [4.0, 2100.0], [5.0, 2900.0], [4.0, 2950.0], [3.0, 1800.0], [3.0, 1860.0], [3.0, 1790.0], [4.0, 3540.0], [4.0, 2000.0], [4.0, 3010.0], [3.0, 1690.0], [4.0, 3030.0], [3.0, 1510.0], [4.0, 3000.0], [3.0, 1840.0], [4.0, 3570.0], [2.0, 1640.0], [1.0, 800.0], [4.0, 3610.0], [3.0, 1680.0], [4.0, 2800.0], [5.0, 1830.0], [4.0, 2420.0], [3.0, 1530.0], [3.0, 1700.0], [3.0, 2630.0], [3.0, 1770.0], [3.0, 1210.0], [4.0, 3250.0], [3.0, 1670.0], [4.0, 2840.0], [3.0, 2970.0], [2.0, 1900.0], [2.0, 780.0], [4.0, 2250.0], [4.0, 2490.0], [5.0, 3610.0], [4.0, 3960.0], [4.0, 2600.0], [3.0, 1630.0], [2.0, 1270.0], [3.0, 1630.0], [5.0, 1940.0], [4.0, 2163.0], [3.0, 2330.0], [4.0, 5860.0], [3.0, 2060.0], [3.0, 1680.0], [3.0, 2632.0], [4.0, 2170.0], [3.0, 2880.0], [3.0, 1790.0], [4.0, 2020.0], [3.0, 2780.0], [4.0, 3100.0], [4.0, 2930.0], [3.0, 1370.0], [3.0, 3240.0], [2.0, 940.0], [3.0, 2290.0], [4.0, 1340.0], [3.0, 1300.0], [3.0, 1960.0], [2.0, 1100.0], [3.0, 1450.0], [3.0, 3250.0], [4.0, 3250.0], [3.0, 2140.0], [3.0, 1560.0], [4.0, 2830.0], [4.0, 3360.0], [3.0, 1790.0], [5.0, 5190.0], [3.0, 2070.0], [3.0, 2880.0], [4.0, 1700.0], [4.0, 3000.0], [3.0, 1765.0], [3.0, 1310.0], [5.0, 4230.0], [3.0, 3050.0], [1.0, 870.0], [3.0, 1790.0], [5.0, 3370.0], [3.0, 3620.0], [2.0, 1660.0], [3.0, 1310.0], [3.0, 2080.0], [3.0, 1280.0], [3.0, 1080.0], [3.0, 1680.0], [2.0, 1080.0], [1.0, 970.0], [3.0, 1820.0], [2.0, 1060.0], [3.0, 880.0], [3.0, 1740.0], [3.0, 1710.0], [3.0, 1860.0], [5.0, 3880.0], [3.0, 2740.0], [3.0, 1870.0], [3.0, 2060.0], [3.0, 1020.0], [4.0, 1730.0], [3.0, 2940.0], [5.0, 2910.0], [4.0, 2310.0], [3.0, 940.0], [4.0, 2410.0], [3.0, 1460.0], [5.0, 4830.0], [3.0, 1570.0], [3.0, 1280.0], [3.0, 1500.0], [3.0, 1830.0], [4.0, 4340.0], [4.0, 1740.0], [4.0, 3200.0], [3.0, 1400.0], [3.0, 2440.0], [4.0, 2500.0], [4.0, 2380.0], [4.0, 4420.0], [3.0, 1110.0], [4.0, 2800.0], [3.0, 1660.0], [4.0, 4230.0], [4.0, 2470.0], [2.0, 1270.0], [2.0, 1030.0], [2.0, 710.0], [3.0, 1070.0], [3.0, 1590.0], [4.0, 1130.0], [2.0, 1060.0], [4.0, 2460.0], [2.0, 1650.0], [4.0, 3180.0], [3.0, 3400.0], [3.0, 1360.0], [3.0, 1520.0], [4.0, 2070.0], [4.0, 1330.0], [3.0, 2310.0], [3.0, 1230.0], [3.0, 1790.0], [5.0, 3200.0], [3.0, 1370.0], [3.0, 1000.0], [3.0, 1990.0], [4.0, 1460.0], [3.0, 2140.0], [3.0, 2330.0], [2.0, 760.0], [3.0, 2710.0], [4.0, 3190.0], [2.0, 1360.0], [3.0, 1100.0], [1.0, 670.0], [3.0, 2210.0], [2.0, 2680.0], [4.0, 3270.0], [3.0, 2080.0], [3.0, 2100.0], [4.0, 2470.0], [3.0, 2120.0], [3.0, 1190.0], [3.0, 1260.0], [3.0, 1120.0], [4.0, 1980.0], [2.0, 1080.0], [3.0, 1100.0], [4.0, 2280.0], [4.0, 2960.0], [3.0, 1610.0], [2.0, 1140.0], [3.0, 1060.0], [2.0, 1100.0], [3.0, 1570.0], [3.0, 1940.0], [2.0, 1080.0], [5.0, 4230.0], [3.0, 1590.0], [4.0, 3220.0], [3.0, 1864.0], [3.0, 2470.0], [3.0, 2270.0], [3.0, 2960.0], [4.0, 3080.0], [3.0, 1710.0], [2.0, 1290.0], [3.0, 1220.0], [4.0, 2330.0], [5.0, 3990.0], [6.0, 6040.0], [4.0, 2550.0], [3.0, 2130.0], [4.0, 2200.0], [3.0, 1520.0], [3.0, 2510.0], [3.0, 2010.0], [3.0, 2850.0], [4.0, 2370.0], [3.0, 1410.0], [3.0, 2090.0], [3.0, 2560.0], [2.0, 2440.0], [3.0, 1150.0], [5.0, 3340.0], [5.0, 3500.0], [3.0, 1330.0], [4.0, 2890.0], [3.0, 1920.0], [3.0, 1290.0], [3.0, 1800.0], [3.0, 2080.0], [5.0, 2510.0], [3.0, 2800.0], [5.0, 2070.0], [3.0, 1460.0], [6.0, 2980.0], [3.0, 1170.0], [5.0, 2590.0], [3.0, 1270.0], [3.0, 2410.0], [3.0, 1430.0], [2.0, 1020.0], [3.0, 2140.0], [2.0, 2210.0], [3.0, 1790.0], [3.0, 1420.0], [4.0, 1934.0], [2.0, 2770.0], [4.0, 2000.0], [4.0, 1600.0], [3.0, 1210.0], [3.0, 2620.0], [3.0, 1900.0], [4.0, 2000.0], [4.0, 2050.0], [1.0, 1120.0], [4.0, 2870.0], [3.0, 1430.0], [3.0, 1520.0], [4.0, 4560.0], [3.0, 1980.0], [4.0, 2130.0], [4.0, 1252.0], [3.0, 1830.0], [4.0, 1370.0], [4.0, 3220.0], [4.0, 3770.0], [5.0, 2860.0], [3.0, 2070.0], [5.0, 3360.0], [4.0, 2440.0], [2.0, 1450.0], [4.0, 2450.0], [3.0, 1360.0], [3.0, 1180.0], [3.0, 1660.0], [4.0, 2770.0], [3.0, 1130.0], [4.0, 3140.0], [3.0, 1960.0], [3.0, 1110.0], [3.0, 840.0], [3.0, 1530.0], [3.0, 1580.0], [3.0, 950.0], [3.0, 2120.0], [3.0, 1360.0], [4.0, 4270.0], [3.0, 2840.0], [3.0, 1550.0], [3.0, 960.0], [3.0, 1200.0], [4.0, 2380.0], [4.0, 2570.0], [4.0, 2320.0], [3.0, 1520.0], [5.0, 5470.0], [4.0, 2440.0], [4.0, 2370.0], [3.0, 2620.0], [2.0, 900.0], [3.0, 1410.0], [4.0, 2910.0], [3.0, 2600.0], [4.0, 1650.0], [6.0, 2800.0], [3.0, 1820.0], [3.0, 2990.0], [3.0, 2150.0], [5.0, 3090.0], [2.0, 1320.0], [3.0, 2390.0], [4.0, 1860.0], [4.0, 2200.0], [6.0, 1810.0], [3.0, 1720.0], [5.0, 3880.0], [4.0, 2240.0], [4.0, 2070.0], [3.0, 1480.0], [3.0, 1860.0], [5.0, 2520.0], [4.0, 2020.0], [3.0, 3230.0], [3.0, 1560.0], [5.0, 3720.0], [5.0, 2250.0], [3.0, 2330.0], [8.0, 2530.0], [2.0, 1070.0], [2.0, 920.0], [4.0, 1700.0], [3.0, 1480.0], [4.0, 1480.0], [4.0, 2530.0], [3.0, 1380.0], [6.0, 3670.0], [4.0, 2240.0], [3.0, 1740.0], [3.0, 1950.0], [4.0, 3170.0], [3.0, 2710.0], [3.0, 3600.0], [3.0, 3090.0], [2.0, 1400.0], [4.0, 3530.0], [3.0, 1080.0], [3.0, 1290.0], [2.0, 1600.0], [4.0, 3190.0], [3.0, 1150.0], [4.0, 2030.0], [3.0, 2260.0], [2.0, 550.0], [3.0, 2580.0], [2.0, 1350.0], [4.0, 2190.0], [2.0, 1510.0], [4.0, 2550.0], [3.0, 1460.0], [3.0, 1300.0], [0.0, 1490.0], [3.0, 1270.0], [3.0, 1850.0], [4.0, 3350.0], [2.0, 880.0], [4.0, 2550.0], [4.0, 2190.0], [4.0, 2060.0], [3.0, 1210.0], [3.0, 1670.0], [3.0, 2430.0], [3.0, 2700.0], [4.0, 2780.0], [2.0, 840.0], [4.0, 6430.0], [4.0, 2340.0], [4.0, 2506.0], [4.0, 2470.0], [4.0, 2798.0], [3.0, 1420.0], [4.0, 2330.0], [3.0, 1422.0], [3.0, 2700.0], [3.0, 2150.0], [3.0, 2190.0], [3.0, 2168.0], [3.0, 1390.0], [3.0, 980.0], [3.0, 1430.0], [3.0, 1840.0], [2.0, 970.0], [4.0, 2470.0], [5.0, 2120.0], [3.0, 1050.0], [4.0, 1300.0], [4.0, 2980.0], [3.0, 2000.0], [2.0, 1120.0], [3.0, 1880.0], [3.0, 1880.0], [3.0, 1710.0], [4.0, 1720.0], [4.0, 6410.0], [3.0, 1650.0], [3.0, 3940.0], [3.0, 1310.0], [4.0, 2370.0], [4.0, 1720.0], [5.0, 2070.0], [3.0, 1630.0], [3.0, 1660.0], [3.0, 1840.0], [3.0, 1490.0], [3.0, 1540.0], [3.0, 1370.0], [4.0, 2090.0], [3.0, 1700.0], [4.0, 1990.0], [5.0, 3830.0], [3.0, 1100.0], [3.0, 2080.0], [3.0, 3000.0], [1.0, 1070.0], [4.0, 3380.0], [5.0, 4750.0], [3.0, 2180.0], [3.0, 1800.0], [3.0, 1560.0], [3.0, 3760.0], [4.0, 2690.0], [1.0, 730.0], [3.0, 2510.0], [4.0, 2990.0], [4.0, 4320.0], [2.0, 1280.0], [4.0, 1440.0], [3.0, 1590.0], [3.0, 1710.0], [4.0, 1940.0], [3.0, 1600.0], [3.0, 1260.0], [3.0, 1200.0], [3.0, 1170.0], [3.0, 2710.0], [4.0, 1350.0], [5.0, 3740.0], [2.0, 1420.0], [4.0, 2790.0], [4.0, 2080.0], [4.0, 3270.0], [3.0, 2390.0], [6.0, 2290.0], [4.0, 2160.0], [3.0, 1410.0], [4.0, 1960.0], [2.0, 2470.0], [2.0, 2560.0], [3.0, 1240.0], [4.0, 2750.0], [3.0, 1480.0], [4.0, 1470.0], [3.0, 1960.0], [3.0, 1520.0], [3.0, 2200.0], [3.0, 1020.0], [3.0, 1350.0], [1.0, 930.0], [4.0, 2220.0], [3.0, 1680.0], [3.0, 2410.0], [3.0, 1700.0], [3.0, 2780.0], [3.0, 1440.0], [4.0, 3290.0], [4.0, 1984.0], [3.0, 1480.0], [2.0, 1860.0], [5.0, 2550.0], [4.0, 2270.0], [3.0, 1360.0], [3.0, 2260.0], [2.0, 1100.0], [4.0, 2820.0], [4.0, 2340.0], [2.0, 1980.0], [5.0, 3410.0], [3.0, 1440.0], [4.0, 2330.0], [3.0, 1190.0], [4.0, 3430.0], [3.0, 3200.0], [2.0, 780.0], [2.0, 1460.0], [3.0, 2430.0], [4.0, 1580.0], [3.0, 1580.0], [4.0, 2720.0], [3.0, 1640.0], [3.0, 1290.0], [4.0, 1850.0], [4.0, 2100.0], [3.0, 1640.0], [4.0, 2730.0], [3.0, 2220.0], [3.0, 2150.0], [3.0, 2730.0], [3.0, 1510.0], [3.0, 2950.0], [4.0, 2620.0], [3.0, 850.0], [3.0, 1340.0], [3.0, 1280.0], [2.0, 1260.0], [4.0, 2220.0], [2.0, 1400.0], [3.0, 1490.0], [3.0, 2110.0], [3.0, 1430.0], [5.0, 2130.0], [3.0, 1620.0], [3.0, 3250.0], [3.0, 2260.0], [3.0, 1170.0], [5.0, 1460.0], [3.0, 1270.0], [2.0, 990.0], [3.0, 1600.0], [4.0, 2690.0], [1.0, 1120.0], [3.0, 1600.0], [4.0, 2070.0], [3.0, 1300.0], [3.0, 1680.0], [3.0, 2000.0], [4.0, 2060.0], [4.0, 4250.0], [4.0, 1910.0], [4.0, 2410.0], [3.0, 1410.0], [3.0, 1340.0], [4.0, 2740.0], [3.0, 1700.0], [3.0, 1430.0], [5.0, 2550.0], [4.0, 2760.0], [3.0, 2450.0], [4.0, 1790.0], [3.0, 1800.0], [5.0, 6300.0], [3.0, 1200.0], [3.0, 930.0], [2.0, 1720.0], [4.0, 1570.0], [3.0, 3360.0], [4.0, 1300.0], [3.0, 1300.0], [4.0, 2580.0], [3.0, 2130.0], [3.0, 1430.0], [4.0, 3430.0], [0.0, 2290.0], [2.0, 1190.0], [3.0, 1320.0], [4.0, 2650.0], [4.0, 2990.0], [4.0, 2820.0], [2.0, 800.0], [5.0, 1790.0], [3.0, 1710.0], [3.0, 1620.0], [4.0, 4150.0], [3.0, 1610.0], [3.0, 1310.0], [3.0, 2370.0], [3.0, 2520.0], [3.0, 1410.0], [5.0, 3880.0], [3.0, 1470.0], [3.0, 1496.0], [2.0, 1556.0], [3.0, 1490.0]], \"columns\": [{\"dtype\": \"str\", \"name\": \"id\"}, {\"dtype\": \"datetime\", \"name\": \"date\"}, {\"dtype\": \"float\", \"name\": \"price\"}, {\"dtype\": \"float\", \"name\": \"bedrooms\"}, {\"dtype\": \"float\", \"name\": \"bathrooms\"}, {\"dtype\": \"float\", \"name\": \"sqft_living\"}, {\"dtype\": \"int\", \"name\": \"sqft_lot\"}, {\"dtype\": \"str\", \"name\": \"floors\"}, {\"dtype\": \"int\", \"name\": \"waterfront\"}, {\"dtype\": \"int\", \"name\": \"view\"}, {\"dtype\": \"int\", \"name\": \"condition\"}, {\"dtype\": \"int\", \"name\": \"grade\"}, {\"dtype\": \"int\", \"name\": \"sqft_above\"}, {\"dtype\": \"int\", \"name\": \"sqft_basement\"}, {\"dtype\": \"int\", \"name\": \"yr_built\"}, {\"dtype\": \"int\", \"name\": \"yr_renovated\"}, {\"dtype\": \"str\", \"name\": \"zipcode\"}, {\"dtype\": \"float\", \"name\": \"lat\"}, {\"dtype\": \"float\", \"name\": \"long\"}, {\"dtype\": \"float\", \"name\": \"sqft_living15\"}, {\"dtype\": \"float\", \"name\": \"sqft_lot15\"}]}, e);\n",
       "                });\n",
       "            })();\n",
       "        "
      ]
     },
     "metadata": {},
     "output_type": "display_data"
    }
   ],
   "source": [
    "train_data.show(view='Scatter Plot', x='bedrooms', y='sqft_living')"
   ]
  },
  {
   "cell_type": "code",
   "execution_count": 45,
   "metadata": {
    "collapsed": true
   },
   "outputs": [],
   "source": [
    "from scipy.stats import pearsonr"
   ]
  },
  {
   "cell_type": "code",
   "execution_count": 46,
   "metadata": {
    "collapsed": false
   },
   "outputs": [
    {
     "data": {
      "text/plain": [
       "(0.31284285450544758, 0.0)"
      ]
     },
     "execution_count": 46,
     "metadata": {},
     "output_type": "execute_result"
    }
   ],
   "source": [
    "pearsonr(train_data['bedrooms'], train_data['price'])"
   ]
  },
  {
   "cell_type": "code",
   "execution_count": 47,
   "metadata": {
    "collapsed": false
   },
   "outputs": [
    {
     "data": {
      "text/plain": [
       "(0.70291635280080511, 0.0)"
      ]
     },
     "execution_count": 47,
     "metadata": {},
     "output_type": "execute_result"
    }
   ],
   "source": [
    "pearsonr(train_data['sqft_living'], train_data['price'])"
   ]
  },
  {
   "cell_type": "code",
   "execution_count": 48,
   "metadata": {
    "collapsed": false
   },
   "outputs": [
    {
     "data": {
      "text/plain": [
       "(0.59105982571315219, 0.0)"
      ]
     },
     "execution_count": 48,
     "metadata": {},
     "output_type": "execute_result"
    }
   ],
   "source": [
    "pearsonr(train_data['sqft_living'], train_data['bedrooms'])"
   ]
  },
  {
   "cell_type": "code",
   "execution_count": null,
   "metadata": {
    "collapsed": true
   },
   "outputs": [],
   "source": []
  }
 ],
 "metadata": {
  "hide_code_all_hidden": false,
  "kernelspec": {
   "display_name": "Python 2",
   "language": "python",
   "name": "python2"
  },
  "language_info": {
   "codemirror_mode": {
    "name": "ipython",
    "version": 2
   },
   "file_extension": ".py",
   "mimetype": "text/x-python",
   "name": "python",
   "nbconvert_exporter": "python",
   "pygments_lexer": "ipython2",
   "version": "2.7.13"
  }
 },
 "nbformat": 4,
 "nbformat_minor": 0
}
